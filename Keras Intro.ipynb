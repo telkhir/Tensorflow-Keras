{
 "cells": [
  {
   "cell_type": "code",
   "execution_count": 1,
   "metadata": {},
   "outputs": [],
   "source": [
    "import tensorflow as tf\n",
    "from tensorflow import keras\n",
    "import numpy as np\n",
    "import pandas as pd\n",
    "import matplotlib.pyplot as plt"
   ]
  },
  {
   "cell_type": "code",
   "execution_count": 2,
   "metadata": {},
   "outputs": [
    {
     "data": {
      "text/plain": [
       "'2.3.1'"
      ]
     },
     "execution_count": 2,
     "metadata": {},
     "output_type": "execute_result"
    }
   ],
   "source": [
    "tf.__version__"
   ]
  },
  {
   "cell_type": "code",
   "execution_count": 3,
   "metadata": {},
   "outputs": [
    {
     "data": {
      "text/plain": [
       "'2.4.0'"
      ]
     },
     "execution_count": 3,
     "metadata": {},
     "output_type": "execute_result"
    }
   ],
   "source": [
    "keras.__version__"
   ]
  },
  {
   "cell_type": "markdown",
   "metadata": {},
   "source": [
    "### Reading the data"
   ]
  },
  {
   "cell_type": "code",
   "execution_count": 4,
   "metadata": {},
   "outputs": [],
   "source": [
    "fashion_mnist = keras.datasets.fashion_mnist\n",
    "(X_train_full, y_train_full), (X_test, y_test) = fashion_mnist.load_data()"
   ]
  },
  {
   "cell_type": "code",
   "execution_count": 5,
   "metadata": {},
   "outputs": [
    {
     "data": {
      "text/plain": [
       "(60000, 28, 28)"
      ]
     },
     "execution_count": 5,
     "metadata": {},
     "output_type": "execute_result"
    }
   ],
   "source": [
    "X_train_full.shape"
   ]
  },
  {
   "cell_type": "code",
   "execution_count": 6,
   "metadata": {},
   "outputs": [
    {
     "data": {
      "text/plain": [
       "(10000, 28, 28)"
      ]
     },
     "execution_count": 6,
     "metadata": {},
     "output_type": "execute_result"
    }
   ],
   "source": [
    "X_test.shape"
   ]
  },
  {
   "cell_type": "code",
   "execution_count": 7,
   "metadata": {},
   "outputs": [],
   "source": [
    "X_valid, X_train = X_train_full[:5000] / 255.0, X_train_full[5000:] / 255.0\n",
    "y_valid, y_train = y_train_full[:5000], y_train_full[5000:]"
   ]
  },
  {
   "cell_type": "code",
   "execution_count": 8,
   "metadata": {},
   "outputs": [
    {
     "data": {
      "text/plain": [
       "array([0, 1, 2, 3, 4, 5, 6, 7, 8, 9], dtype=uint8)"
      ]
     },
     "execution_count": 8,
     "metadata": {},
     "output_type": "execute_result"
    }
   ],
   "source": [
    "np.unique(y_valid)"
   ]
  },
  {
   "cell_type": "code",
   "execution_count": 9,
   "metadata": {},
   "outputs": [],
   "source": [
    "class_names = [\"Tshirt\", \"Trouser\", \"Pullover\", \"Dress\", \"Coat\", \"Sandal\", \"Shirt\", \"Sneaker\", \"Bag\", \"Ankle boot\"]"
   ]
  },
  {
   "cell_type": "code",
   "execution_count": 10,
   "metadata": {},
   "outputs": [
    {
     "data": {
      "text/plain": [
       "'Ankle boot'"
      ]
     },
     "execution_count": 10,
     "metadata": {},
     "output_type": "execute_result"
    }
   ],
   "source": [
    "class_names[y_valid[0]]"
   ]
  },
  {
   "cell_type": "markdown",
   "metadata": {},
   "source": [
    "# Keras Sequential API"
   ]
  },
  {
   "cell_type": "markdown",
   "metadata": {},
   "source": [
    "### Building the Model"
   ]
  },
  {
   "cell_type": "code",
   "execution_count": 11,
   "metadata": {},
   "outputs": [],
   "source": [
    "model = keras.models.Sequential([\n",
    "    keras.layers.Flatten(input_shape=[28,28]),\n",
    "    keras.layers.Dense(300, activation=\"relu\"),\n",
    "    keras.layers.Dense(100, activation=\"relu\"),\n",
    "    keras.layers.Dense(10, activation=\"softmax\")], name=\"Mnist_Model\")"
   ]
  },
  {
   "cell_type": "code",
   "execution_count": 12,
   "metadata": {},
   "outputs": [
    {
     "name": "stdout",
     "output_type": "stream",
     "text": [
      "Model: \"Mnist_Model\"\n",
      "_________________________________________________________________\n",
      "Layer (type)                 Output Shape              Param #   \n",
      "=================================================================\n",
      "flatten (Flatten)            (None, 784)               0         \n",
      "_________________________________________________________________\n",
      "dense (Dense)                (None, 300)               235500    \n",
      "_________________________________________________________________\n",
      "dense_1 (Dense)              (None, 100)               30100     \n",
      "_________________________________________________________________\n",
      "dense_2 (Dense)              (None, 10)                1010      \n",
      "=================================================================\n",
      "Total params: 266,610\n",
      "Trainable params: 266,610\n",
      "Non-trainable params: 0\n",
      "_________________________________________________________________\n"
     ]
    }
   ],
   "source": [
    "model.summary()"
   ]
  },
  {
   "cell_type": "code",
   "execution_count": 13,
   "metadata": {},
   "outputs": [
    {
     "data": {
      "text/plain": [
       "235200"
      ]
     },
     "execution_count": 13,
     "metadata": {},
     "output_type": "execute_result"
    }
   ],
   "source": [
    "300*784"
   ]
  },
  {
   "cell_type": "code",
   "execution_count": 14,
   "metadata": {},
   "outputs": [
    {
     "data": {
      "text/plain": [
       "[<tensorflow.python.keras.layers.core.Flatten at 0x15e51b39040>,\n",
       " <tensorflow.python.keras.layers.core.Dense at 0x15e51b52e20>,\n",
       " <tensorflow.python.keras.layers.core.Dense at 0x15e68267160>,\n",
       " <tensorflow.python.keras.layers.core.Dense at 0x15e682674c0>]"
      ]
     },
     "execution_count": 14,
     "metadata": {},
     "output_type": "execute_result"
    }
   ],
   "source": [
    "model.layers"
   ]
  },
  {
   "cell_type": "code",
   "execution_count": 16,
   "metadata": {},
   "outputs": [
    {
     "data": {
      "text/plain": [
       "<tensorflow.python.keras.layers.core.Dense at 0x15e68267160>"
      ]
     },
     "execution_count": 16,
     "metadata": {},
     "output_type": "execute_result"
    }
   ],
   "source": [
    "model.get_layer(\"dense_1\")"
   ]
  },
  {
   "cell_type": "code",
   "execution_count": 17,
   "metadata": {},
   "outputs": [],
   "source": [
    "weights, biases = model.layers[1].get_weights()"
   ]
  },
  {
   "cell_type": "code",
   "execution_count": 18,
   "metadata": {},
   "outputs": [
    {
     "data": {
      "text/plain": [
       "array([[ 0.05000402, -0.05992961,  0.05164048, ..., -0.05234205,\n",
       "        -0.01248426, -0.03273728],\n",
       "       [ 0.0473929 , -0.02704047, -0.04920133, ..., -0.04943941,\n",
       "         0.03178407, -0.00458083],\n",
       "       [ 0.05693263,  0.06473388, -0.06849327, ...,  0.06955715,\n",
       "         0.04206069,  0.04217813],\n",
       "       ...,\n",
       "       [ 0.01247553,  0.01175727, -0.03685341, ..., -0.00403559,\n",
       "        -0.05103397, -0.06850313],\n",
       "       [ 0.03135417,  0.00833406, -0.02345856, ..., -0.04291496,\n",
       "        -0.06594567,  0.00158928],\n",
       "       [ 0.06198055,  0.04352616,  0.0503033 , ...,  0.04565582,\n",
       "        -0.02950408,  0.07359961]], dtype=float32)"
      ]
     },
     "execution_count": 18,
     "metadata": {},
     "output_type": "execute_result"
    }
   ],
   "source": [
    "weights"
   ]
  },
  {
   "cell_type": "code",
   "execution_count": 19,
   "metadata": {},
   "outputs": [
    {
     "data": {
      "text/plain": [
       "array([0., 0., 0., 0., 0., 0., 0., 0., 0., 0., 0., 0., 0., 0., 0., 0., 0.,\n",
       "       0., 0., 0., 0., 0., 0., 0., 0., 0., 0., 0., 0., 0., 0., 0., 0., 0.,\n",
       "       0., 0., 0., 0., 0., 0., 0., 0., 0., 0., 0., 0., 0., 0., 0., 0., 0.,\n",
       "       0., 0., 0., 0., 0., 0., 0., 0., 0., 0., 0., 0., 0., 0., 0., 0., 0.,\n",
       "       0., 0., 0., 0., 0., 0., 0., 0., 0., 0., 0., 0., 0., 0., 0., 0., 0.,\n",
       "       0., 0., 0., 0., 0., 0., 0., 0., 0., 0., 0., 0., 0., 0., 0., 0., 0.,\n",
       "       0., 0., 0., 0., 0., 0., 0., 0., 0., 0., 0., 0., 0., 0., 0., 0., 0.,\n",
       "       0., 0., 0., 0., 0., 0., 0., 0., 0., 0., 0., 0., 0., 0., 0., 0., 0.,\n",
       "       0., 0., 0., 0., 0., 0., 0., 0., 0., 0., 0., 0., 0., 0., 0., 0., 0.,\n",
       "       0., 0., 0., 0., 0., 0., 0., 0., 0., 0., 0., 0., 0., 0., 0., 0., 0.,\n",
       "       0., 0., 0., 0., 0., 0., 0., 0., 0., 0., 0., 0., 0., 0., 0., 0., 0.,\n",
       "       0., 0., 0., 0., 0., 0., 0., 0., 0., 0., 0., 0., 0., 0., 0., 0., 0.,\n",
       "       0., 0., 0., 0., 0., 0., 0., 0., 0., 0., 0., 0., 0., 0., 0., 0., 0.,\n",
       "       0., 0., 0., 0., 0., 0., 0., 0., 0., 0., 0., 0., 0., 0., 0., 0., 0.,\n",
       "       0., 0., 0., 0., 0., 0., 0., 0., 0., 0., 0., 0., 0., 0., 0., 0., 0.,\n",
       "       0., 0., 0., 0., 0., 0., 0., 0., 0., 0., 0., 0., 0., 0., 0., 0., 0.,\n",
       "       0., 0., 0., 0., 0., 0., 0., 0., 0., 0., 0., 0., 0., 0., 0., 0., 0.,\n",
       "       0., 0., 0., 0., 0., 0., 0., 0., 0., 0., 0.], dtype=float32)"
      ]
     },
     "execution_count": 19,
     "metadata": {},
     "output_type": "execute_result"
    }
   ],
   "source": [
    "biases"
   ]
  },
  {
   "cell_type": "code",
   "execution_count": 20,
   "metadata": {},
   "outputs": [
    {
     "data": {
      "text/plain": [
       "(784, 300)"
      ]
     },
     "execution_count": 20,
     "metadata": {},
     "output_type": "execute_result"
    }
   ],
   "source": [
    "weights.shape"
   ]
  },
  {
   "cell_type": "code",
   "execution_count": 21,
   "metadata": {},
   "outputs": [
    {
     "data": {
      "text/plain": [
       "(300,)"
      ]
     },
     "execution_count": 21,
     "metadata": {},
     "output_type": "execute_result"
    }
   ],
   "source": [
    "biases.shape"
   ]
  },
  {
   "cell_type": "code",
   "execution_count": 22,
   "metadata": {},
   "outputs": [],
   "source": [
    "model.compile(loss=\"sparse_categorical_crossentropy\",\n",
    "             optimizer=\"sgd\",\n",
    "             metrics=[\"accuracy\"])"
   ]
  },
  {
   "cell_type": "code",
   "execution_count": 34,
   "metadata": {},
   "outputs": [
    {
     "name": "stdout",
     "output_type": "stream",
     "text": [
      "Epoch 1/100\n",
      "1719/1719 [==============================] - 3s 2ms/step - loss: 0.2239 - accuracy: 0.9191 - val_loss: 0.3120 - val_accuracy: 0.8840\n",
      "Epoch 2/100\n",
      "1719/1719 [==============================] - 3s 2ms/step - loss: 0.2204 - accuracy: 0.9205 - val_loss: 0.3011 - val_accuracy: 0.8906\n",
      "Epoch 3/100\n",
      "1719/1719 [==============================] - 3s 2ms/step - loss: 0.2172 - accuracy: 0.9218 - val_loss: 0.2926 - val_accuracy: 0.8932\n",
      "Epoch 4/100\n",
      "1719/1719 [==============================] - 3s 2ms/step - loss: 0.2128 - accuracy: 0.9231 - val_loss: 0.3041 - val_accuracy: 0.8888\n",
      "Epoch 5/100\n",
      "1719/1719 [==============================] - 3s 2ms/step - loss: 0.2104 - accuracy: 0.9246 - val_loss: 0.2869 - val_accuracy: 0.8968\n",
      "Epoch 6/100\n",
      "1719/1719 [==============================] - 3s 2ms/step - loss: 0.2059 - accuracy: 0.9265 - val_loss: 0.2985 - val_accuracy: 0.8910\n",
      "Epoch 7/100\n",
      "1719/1719 [==============================] - 3s 2ms/step - loss: 0.2044 - accuracy: 0.9264 - val_loss: 0.3037 - val_accuracy: 0.8878\n",
      "Epoch 8/100\n",
      "1719/1719 [==============================] - 3s 2ms/step - loss: 0.2001 - accuracy: 0.9279 - val_loss: 0.2937 - val_accuracy: 0.8926\n",
      "Epoch 9/100\n",
      "1719/1719 [==============================] - 3s 2ms/step - loss: 0.1978 - accuracy: 0.9303 - val_loss: 0.2893 - val_accuracy: 0.8962\n",
      "Epoch 10/100\n",
      "1719/1719 [==============================] - 3s 2ms/step - loss: 0.1943 - accuracy: 0.9308 - val_loss: 0.2926 - val_accuracy: 0.8912\n",
      "Epoch 11/100\n",
      "1719/1719 [==============================] - 3s 2ms/step - loss: 0.1915 - accuracy: 0.9317 - val_loss: 0.2979 - val_accuracy: 0.8950\n",
      "Epoch 12/100\n",
      "1719/1719 [==============================] - 3s 2ms/step - loss: 0.1894 - accuracy: 0.9316 - val_loss: 0.2876 - val_accuracy: 0.8978\n",
      "Epoch 13/100\n",
      "1719/1719 [==============================] - 3s 2ms/step - loss: 0.1854 - accuracy: 0.9339 - val_loss: 0.3010 - val_accuracy: 0.8932\n",
      "Epoch 14/100\n",
      "1719/1719 [==============================] - 3s 2ms/step - loss: 0.1840 - accuracy: 0.9334 - val_loss: 0.3064 - val_accuracy: 0.8918\n",
      "Epoch 15/100\n",
      "1719/1719 [==============================] - 3s 2ms/step - loss: 0.1792 - accuracy: 0.9367 - val_loss: 0.2950 - val_accuracy: 0.8958\n",
      "Epoch 16/100\n",
      "1719/1719 [==============================] - 3s 2ms/step - loss: 0.1775 - accuracy: 0.9369 - val_loss: 0.2900 - val_accuracy: 0.8958\n",
      "Epoch 17/100\n",
      "1719/1719 [==============================] - 3s 2ms/step - loss: 0.1747 - accuracy: 0.9373 - val_loss: 0.3132 - val_accuracy: 0.8876\n",
      "Epoch 18/100\n",
      "1719/1719 [==============================] - 3s 2ms/step - loss: 0.1713 - accuracy: 0.9388 - val_loss: 0.2990 - val_accuracy: 0.8950\n",
      "Epoch 19/100\n",
      "1719/1719 [==============================] - 3s 2ms/step - loss: 0.1679 - accuracy: 0.9413 - val_loss: 0.3039 - val_accuracy: 0.8922\n",
      "Epoch 20/100\n",
      "1719/1719 [==============================] - 3s 2ms/step - loss: 0.1659 - accuracy: 0.9416 - val_loss: 0.2920 - val_accuracy: 0.8994\n",
      "Epoch 21/100\n",
      "1719/1719 [==============================] - 3s 2ms/step - loss: 0.1639 - accuracy: 0.9417 - val_loss: 0.3021 - val_accuracy: 0.8936\n",
      "Epoch 22/100\n",
      "1719/1719 [==============================] - 3s 2ms/step - loss: 0.1607 - accuracy: 0.9434 - val_loss: 0.2882 - val_accuracy: 0.8966\n",
      "Epoch 23/100\n",
      "1719/1719 [==============================] - 3s 2ms/step - loss: 0.1585 - accuracy: 0.9437 - val_loss: 0.3213 - val_accuracy: 0.8928\n",
      "Epoch 24/100\n",
      "1719/1719 [==============================] - 3s 2ms/step - loss: 0.1557 - accuracy: 0.9449 - val_loss: 0.2902 - val_accuracy: 0.8994\n",
      "Epoch 25/100\n",
      "1719/1719 [==============================] - 3s 2ms/step - loss: 0.1536 - accuracy: 0.9456 - val_loss: 0.3056 - val_accuracy: 0.8948\n",
      "Epoch 26/100\n",
      "1719/1719 [==============================] - 3s 2ms/step - loss: 0.1513 - accuracy: 0.9462 - val_loss: 0.3248 - val_accuracy: 0.8950\n",
      "Epoch 27/100\n",
      "1719/1719 [==============================] - 3s 2ms/step - loss: 0.1498 - accuracy: 0.9474 - val_loss: 0.3154 - val_accuracy: 0.8860\n",
      "Epoch 28/100\n",
      "1719/1719 [==============================] - 3s 2ms/step - loss: 0.1471 - accuracy: 0.9479 - val_loss: 0.3061 - val_accuracy: 0.8928\n",
      "Epoch 29/100\n",
      "1719/1719 [==============================] - 3s 2ms/step - loss: 0.1440 - accuracy: 0.9491 - val_loss: 0.2971 - val_accuracy: 0.8978\n",
      "Epoch 30/100\n",
      "1719/1719 [==============================] - 3s 2ms/step - loss: 0.1419 - accuracy: 0.9508 - val_loss: 0.3031 - val_accuracy: 0.8954\n",
      "Epoch 31/100\n",
      "1719/1719 [==============================] - 3s 2ms/step - loss: 0.1392 - accuracy: 0.9514 - val_loss: 0.2984 - val_accuracy: 0.8958\n",
      "Epoch 32/100\n",
      "1719/1719 [==============================] - 3s 2ms/step - loss: 0.1372 - accuracy: 0.9519 - val_loss: 0.3000 - val_accuracy: 0.8984\n",
      "Epoch 33/100\n",
      "1719/1719 [==============================] - 3s 2ms/step - loss: 0.1357 - accuracy: 0.9523 - val_loss: 0.3206 - val_accuracy: 0.8948\n",
      "Epoch 34/100\n",
      "1719/1719 [==============================] - 3s 2ms/step - loss: 0.1324 - accuracy: 0.9540 - val_loss: 0.3152 - val_accuracy: 0.8910\n",
      "Epoch 35/100\n",
      "1719/1719 [==============================] - 3s 2ms/step - loss: 0.1307 - accuracy: 0.9541 - val_loss: 0.3003 - val_accuracy: 0.8974\n",
      "Epoch 36/100\n",
      "1719/1719 [==============================] - 3s 2ms/step - loss: 0.1286 - accuracy: 0.9552 - val_loss: 0.3373 - val_accuracy: 0.8834\n",
      "Epoch 37/100\n",
      "1719/1719 [==============================] - 3s 2ms/step - loss: 0.1279 - accuracy: 0.9552 - val_loss: 0.3092 - val_accuracy: 0.8946\n",
      "Epoch 38/100\n",
      "1719/1719 [==============================] - 3s 2ms/step - loss: 0.1236 - accuracy: 0.9570 - val_loss: 0.3197 - val_accuracy: 0.8958\n",
      "Epoch 39/100\n",
      "1719/1719 [==============================] - 3s 2ms/step - loss: 0.1239 - accuracy: 0.9575 - val_loss: 0.3502 - val_accuracy: 0.8892\n",
      "Epoch 40/100\n",
      "1719/1719 [==============================] - 3s 2ms/step - loss: 0.1202 - accuracy: 0.9582 - val_loss: 0.3213 - val_accuracy: 0.8940\n",
      "Epoch 41/100\n",
      "1719/1719 [==============================] - 3s 2ms/step - loss: 0.1185 - accuracy: 0.9590 - val_loss: 0.3173 - val_accuracy: 0.8968\n",
      "Epoch 42/100\n",
      "1719/1719 [==============================] - 3s 2ms/step - loss: 0.1169 - accuracy: 0.9591 - val_loss: 0.3334 - val_accuracy: 0.8948\n",
      "Epoch 43/100\n",
      "1719/1719 [==============================] - 3s 2ms/step - loss: 0.1151 - accuracy: 0.9604 - val_loss: 0.3201 - val_accuracy: 0.8948\n",
      "Epoch 44/100\n",
      "1719/1719 [==============================] - 3s 2ms/step - loss: 0.1136 - accuracy: 0.9604 - val_loss: 0.3421 - val_accuracy: 0.8920\n",
      "Epoch 45/100\n",
      "1719/1719 [==============================] - 3s 2ms/step - loss: 0.1110 - accuracy: 0.9620 - val_loss: 0.3158 - val_accuracy: 0.9000\n",
      "Epoch 46/100\n",
      "1719/1719 [==============================] - 3s 2ms/step - loss: 0.1105 - accuracy: 0.9622 - val_loss: 0.3095 - val_accuracy: 0.8974\n",
      "Epoch 47/100\n",
      "1719/1719 [==============================] - 3s 2ms/step - loss: 0.1061 - accuracy: 0.9633 - val_loss: 0.3261 - val_accuracy: 0.8942\n",
      "Epoch 48/100\n",
      "1719/1719 [==============================] - 3s 2ms/step - loss: 0.1062 - accuracy: 0.9635 - val_loss: 0.3404 - val_accuracy: 0.8932\n",
      "Epoch 49/100\n",
      "1719/1719 [==============================] - 3s 2ms/step - loss: 0.1045 - accuracy: 0.9641 - val_loss: 0.3185 - val_accuracy: 0.8934\n",
      "Epoch 50/100\n",
      "1719/1719 [==============================] - 3s 2ms/step - loss: 0.1019 - accuracy: 0.9644 - val_loss: 0.3317 - val_accuracy: 0.8944\n",
      "Epoch 51/100\n",
      "1719/1719 [==============================] - 3s 2ms/step - loss: 0.1017 - accuracy: 0.9646 - val_loss: 0.3278 - val_accuracy: 0.8956\n",
      "Epoch 52/100\n",
      "1719/1719 [==============================] - 3s 2ms/step - loss: 0.0977 - accuracy: 0.9665 - val_loss: 0.3441 - val_accuracy: 0.8878\n",
      "Epoch 53/100\n",
      "1719/1719 [==============================] - 3s 2ms/step - loss: 0.0973 - accuracy: 0.9674 - val_loss: 0.3274 - val_accuracy: 0.8938\n",
      "Epoch 54/100\n",
      "1719/1719 [==============================] - 3s 2ms/step - loss: 0.0969 - accuracy: 0.9671 - val_loss: 0.3357 - val_accuracy: 0.8926\n",
      "Epoch 55/100\n",
      "1719/1719 [==============================] - 3s 2ms/step - loss: 0.0935 - accuracy: 0.9682 - val_loss: 0.3922 - val_accuracy: 0.8888\n",
      "Epoch 56/100\n",
      "1719/1719 [==============================] - 3s 2ms/step - loss: 0.0938 - accuracy: 0.9682 - val_loss: 0.3368 - val_accuracy: 0.8910\n",
      "Epoch 57/100\n",
      "1719/1719 [==============================] - 3s 2ms/step - loss: 0.0901 - accuracy: 0.9694 - val_loss: 0.3377 - val_accuracy: 0.8928\n",
      "Epoch 58/100\n",
      "1719/1719 [==============================] - 3s 2ms/step - loss: 0.0890 - accuracy: 0.9702 - val_loss: 0.3979 - val_accuracy: 0.8812\n",
      "Epoch 59/100\n",
      "1719/1719 [==============================] - 3s 2ms/step - loss: 0.0869 - accuracy: 0.9701 - val_loss: 0.3427 - val_accuracy: 0.8968\n",
      "Epoch 60/100\n",
      "1719/1719 [==============================] - 3s 2ms/step - loss: 0.0861 - accuracy: 0.9707 - val_loss: 0.3953 - val_accuracy: 0.8908\n",
      "Epoch 61/100\n",
      "1719/1719 [==============================] - 3s 2ms/step - loss: 0.0848 - accuracy: 0.9715 - val_loss: 0.3549 - val_accuracy: 0.8888\n",
      "Epoch 62/100\n",
      "1719/1719 [==============================] - 3s 2ms/step - loss: 0.0841 - accuracy: 0.9712 - val_loss: 0.3557 - val_accuracy: 0.8928\n",
      "Epoch 63/100\n",
      "1719/1719 [==============================] - 3s 2ms/step - loss: 0.0804 - accuracy: 0.9734 - val_loss: 0.3558 - val_accuracy: 0.8970\n",
      "Epoch 64/100\n",
      "1719/1719 [==============================] - 3s 2ms/step - loss: 0.0798 - accuracy: 0.9739 - val_loss: 0.3759 - val_accuracy: 0.8910\n",
      "Epoch 65/100\n",
      "1719/1719 [==============================] - 3s 2ms/step - loss: 0.0784 - accuracy: 0.9744 - val_loss: 0.3537 - val_accuracy: 0.8950\n",
      "Epoch 66/100\n",
      "1719/1719 [==============================] - 3s 2ms/step - loss: 0.0774 - accuracy: 0.9739 - val_loss: 0.3585 - val_accuracy: 0.8962\n",
      "Epoch 67/100\n",
      "1719/1719 [==============================] - 3s 2ms/step - loss: 0.0759 - accuracy: 0.9743 - val_loss: 0.3475 - val_accuracy: 0.8972\n",
      "Epoch 68/100\n",
      "1719/1719 [==============================] - 3s 2ms/step - loss: 0.0757 - accuracy: 0.9747 - val_loss: 0.3413 - val_accuracy: 0.8954\n",
      "Epoch 69/100\n",
      "1719/1719 [==============================] - 3s 2ms/step - loss: 0.0733 - accuracy: 0.9761 - val_loss: 0.3572 - val_accuracy: 0.8968\n",
      "Epoch 70/100\n",
      "1719/1719 [==============================] - 3s 2ms/step - loss: 0.0722 - accuracy: 0.9761 - val_loss: 0.3657 - val_accuracy: 0.8934\n",
      "Epoch 71/100\n",
      "1719/1719 [==============================] - 3s 2ms/step - loss: 0.0710 - accuracy: 0.9764 - val_loss: 0.3731 - val_accuracy: 0.8934\n",
      "Epoch 72/100\n",
      "1719/1719 [==============================] - 3s 2ms/step - loss: 0.0706 - accuracy: 0.9767 - val_loss: 0.3665 - val_accuracy: 0.8976\n",
      "Epoch 73/100\n",
      "1719/1719 [==============================] - 3s 2ms/step - loss: 0.0683 - accuracy: 0.9777 - val_loss: 0.3709 - val_accuracy: 0.8952\n",
      "Epoch 74/100\n",
      "1719/1719 [==============================] - 3s 2ms/step - loss: 0.0661 - accuracy: 0.9784 - val_loss: 0.3802 - val_accuracy: 0.8960\n",
      "Epoch 75/100\n",
      "1719/1719 [==============================] - 3s 2ms/step - loss: 0.0661 - accuracy: 0.9789 - val_loss: 0.3908 - val_accuracy: 0.8896\n",
      "Epoch 76/100\n",
      "1719/1719 [==============================] - 3s 2ms/step - loss: 0.0650 - accuracy: 0.9787 - val_loss: 0.3703 - val_accuracy: 0.8986\n",
      "Epoch 77/100\n",
      "1719/1719 [==============================] - 3s 2ms/step - loss: 0.0642 - accuracy: 0.9792 - val_loss: 0.3787 - val_accuracy: 0.8916\n",
      "Epoch 78/100\n",
      "1719/1719 [==============================] - 3s 2ms/step - loss: 0.0634 - accuracy: 0.9795 - val_loss: 0.3687 - val_accuracy: 0.8952\n",
      "Epoch 79/100\n",
      "1719/1719 [==============================] - 3s 2ms/step - loss: 0.0618 - accuracy: 0.9804 - val_loss: 0.3737 - val_accuracy: 0.8952\n",
      "Epoch 80/100\n",
      "1719/1719 [==============================] - 3s 2ms/step - loss: 0.0594 - accuracy: 0.9804 - val_loss: 0.4158 - val_accuracy: 0.8878\n",
      "Epoch 81/100\n",
      "1719/1719 [==============================] - 3s 2ms/step - loss: 0.0586 - accuracy: 0.9808 - val_loss: 0.4043 - val_accuracy: 0.8942\n",
      "Epoch 82/100\n",
      "1719/1719 [==============================] - 3s 2ms/step - loss: 0.0582 - accuracy: 0.9807 - val_loss: 0.4100 - val_accuracy: 0.8890\n",
      "Epoch 83/100\n",
      "1719/1719 [==============================] - 3s 2ms/step - loss: 0.0572 - accuracy: 0.9813 - val_loss: 0.3837 - val_accuracy: 0.8968\n",
      "Epoch 84/100\n",
      "1719/1719 [==============================] - 3s 2ms/step - loss: 0.0566 - accuracy: 0.9821 - val_loss: 0.4173 - val_accuracy: 0.8900\n",
      "Epoch 85/100\n",
      "1719/1719 [==============================] - 3s 2ms/step - loss: 0.0545 - accuracy: 0.9823 - val_loss: 0.3874 - val_accuracy: 0.8972\n",
      "Epoch 86/100\n",
      "1719/1719 [==============================] - 3s 2ms/step - loss: 0.0531 - accuracy: 0.9831 - val_loss: 0.3910 - val_accuracy: 0.8926\n",
      "Epoch 87/100\n",
      "1719/1719 [==============================] - 3s 2ms/step - loss: 0.0529 - accuracy: 0.9830 - val_loss: 0.4183 - val_accuracy: 0.8942\n",
      "Epoch 88/100\n",
      "1719/1719 [==============================] - 3s 2ms/step - loss: 0.0523 - accuracy: 0.9829 - val_loss: 0.3931 - val_accuracy: 0.8960\n",
      "Epoch 89/100\n",
      "1719/1719 [==============================] - 3s 2ms/step - loss: 0.0500 - accuracy: 0.9845 - val_loss: 0.3999 - val_accuracy: 0.8960\n",
      "Epoch 90/100\n",
      "1719/1719 [==============================] - 3s 2ms/step - loss: 0.0504 - accuracy: 0.9836 - val_loss: 0.3918 - val_accuracy: 0.8998\n",
      "Epoch 91/100\n",
      "1719/1719 [==============================] - 3s 2ms/step - loss: 0.0488 - accuracy: 0.9845 - val_loss: 0.4123 - val_accuracy: 0.8954\n",
      "Epoch 92/100\n",
      "1719/1719 [==============================] - 3s 2ms/step - loss: 0.0484 - accuracy: 0.9840 - val_loss: 0.3973 - val_accuracy: 0.8968\n",
      "Epoch 93/100\n",
      "1719/1719 [==============================] - 3s 2ms/step - loss: 0.0474 - accuracy: 0.9854 - val_loss: 0.4722 - val_accuracy: 0.8828\n",
      "Epoch 94/100\n",
      "1719/1719 [==============================] - 3s 2ms/step - loss: 0.0481 - accuracy: 0.9844 - val_loss: 0.4096 - val_accuracy: 0.8918\n",
      "Epoch 95/100\n",
      "1719/1719 [==============================] - 3s 2ms/step - loss: 0.0461 - accuracy: 0.9850 - val_loss: 0.4245 - val_accuracy: 0.8960\n",
      "Epoch 96/100\n",
      "1719/1719 [==============================] - 3s 2ms/step - loss: 0.0438 - accuracy: 0.9861 - val_loss: 0.4155 - val_accuracy: 0.8964\n",
      "Epoch 97/100\n",
      "1719/1719 [==============================] - 3s 2ms/step - loss: 0.0442 - accuracy: 0.9861 - val_loss: 0.4258 - val_accuracy: 0.8940\n",
      "Epoch 98/100\n",
      "1719/1719 [==============================] - 3s 2ms/step - loss: 0.0424 - accuracy: 0.9873 - val_loss: 0.4327 - val_accuracy: 0.8928\n",
      "Epoch 99/100\n",
      "1719/1719 [==============================] - 3s 2ms/step - loss: 0.0421 - accuracy: 0.9869 - val_loss: 0.4361 - val_accuracy: 0.8948\n",
      "Epoch 100/100\n",
      "1719/1719 [==============================] - 3s 2ms/step - loss: 0.0402 - accuracy: 0.9882 - val_loss: 0.4247 - val_accuracy: 0.8968\n"
     ]
    }
   ],
   "source": [
    "history = model.fit(X_train, y_train, epochs=100,\n",
    "                    validation_data=(X_valid, y_valid))"
   ]
  },
  {
   "cell_type": "code",
   "execution_count": 24,
   "metadata": {
    "collapsed": true,
    "jupyter": {
     "outputs_hidden": true
    }
   },
   "outputs": [
    {
     "data": {
      "text/plain": [
       "{'loss': [0.7265991568565369,\n",
       "  0.4927557110786438,\n",
       "  0.4450525939464569,\n",
       "  0.41711336374282837,\n",
       "  0.3959476947784424,\n",
       "  0.37959128618240356,\n",
       "  0.36572006344795227,\n",
       "  0.3530329465866089,\n",
       "  0.3423042893409729,\n",
       "  0.3338049352169037,\n",
       "  0.3245781362056732,\n",
       "  0.3186051547527313,\n",
       "  0.309889018535614,\n",
       "  0.3032786548137665,\n",
       "  0.29709121584892273,\n",
       "  0.29117119312286377,\n",
       "  0.28443655371665955,\n",
       "  0.27978217601776123,\n",
       "  0.27441316843032837,\n",
       "  0.2695232331752777,\n",
       "  0.26348528265953064,\n",
       "  0.2598818242549896,\n",
       "  0.2552509009838104,\n",
       "  0.25169068574905396,\n",
       "  0.2481580376625061,\n",
       "  0.24255767464637756,\n",
       "  0.23910923302173615,\n",
       "  0.23497651517391205,\n",
       "  0.2318245768547058,\n",
       "  0.2267872542142868],\n",
       " 'accuracy': [0.7616000175476074,\n",
       "  0.8285636305809021,\n",
       "  0.843999981880188,\n",
       "  0.8538545370101929,\n",
       "  0.8604545593261719,\n",
       "  0.8668363690376282,\n",
       "  0.8708363771438599,\n",
       "  0.8755999803543091,\n",
       "  0.8789636492729187,\n",
       "  0.8810908794403076,\n",
       "  0.8842363357543945,\n",
       "  0.8855090737342834,\n",
       "  0.8890363574028015,\n",
       "  0.8903999924659729,\n",
       "  0.8938363790512085,\n",
       "  0.8954908847808838,\n",
       "  0.8974727392196655,\n",
       "  0.8997091054916382,\n",
       "  0.9007999897003174,\n",
       "  0.9032182097434998,\n",
       "  0.9045636653900146,\n",
       "  0.9056181907653809,\n",
       "  0.9076545238494873,\n",
       "  0.9095090627670288,\n",
       "  0.9112545251846313,\n",
       "  0.9131454825401306,\n",
       "  0.9133636355400085,\n",
       "  0.9154727458953857,\n",
       "  0.9161818027496338,\n",
       "  0.918290913105011],\n",
       " 'val_loss': [0.5298005938529968,\n",
       "  0.4480077028274536,\n",
       "  0.4126698672771454,\n",
       "  0.40755099058151245,\n",
       "  0.42377084493637085,\n",
       "  0.3892292380332947,\n",
       "  0.39179641008377075,\n",
       "  0.38458847999572754,\n",
       "  0.3731241822242737,\n",
       "  0.3437618017196655,\n",
       "  0.340240478515625,\n",
       "  0.33789750933647156,\n",
       "  0.3303515911102295,\n",
       "  0.32459545135498047,\n",
       "  0.3643607795238495,\n",
       "  0.3240402936935425,\n",
       "  0.3116409182548523,\n",
       "  0.33362898230552673,\n",
       "  0.321574866771698,\n",
       "  0.32004809379577637,\n",
       "  0.30520179867744446,\n",
       "  0.31739193201065063,\n",
       "  0.30905047059059143,\n",
       "  0.30381301045417786,\n",
       "  0.30226045846939087,\n",
       "  0.30309903621673584,\n",
       "  0.31802669167518616,\n",
       "  0.2983570694923401,\n",
       "  0.32115671038627625,\n",
       "  0.30043119192123413],\n",
       " 'val_accuracy': [0.8220000267028809,\n",
       "  0.8483999967575073,\n",
       "  0.8583999872207642,\n",
       "  0.8600000143051147,\n",
       "  0.8550000190734863,\n",
       "  0.8622000217437744,\n",
       "  0.8629999756813049,\n",
       "  0.8610000014305115,\n",
       "  0.8659999966621399,\n",
       "  0.8777999877929688,\n",
       "  0.8805999755859375,\n",
       "  0.8787999749183655,\n",
       "  0.8826000094413757,\n",
       "  0.8877999782562256,\n",
       "  0.8673999905586243,\n",
       "  0.8840000033378601,\n",
       "  0.8884000182151794,\n",
       "  0.8766000270843506,\n",
       "  0.8863999843597412,\n",
       "  0.8840000033378601,\n",
       "  0.8912000060081482,\n",
       "  0.8840000033378601,\n",
       "  0.8899999856948853,\n",
       "  0.8894000053405762,\n",
       "  0.8913999795913696,\n",
       "  0.8935999870300293,\n",
       "  0.8858000040054321,\n",
       "  0.8907999992370605,\n",
       "  0.8784000277519226,\n",
       "  0.8916000127792358]}"
      ]
     },
     "execution_count": 24,
     "metadata": {},
     "output_type": "execute_result"
    }
   ],
   "source": [
    "history.history"
   ]
  },
  {
   "cell_type": "code",
   "execution_count": 35,
   "metadata": {},
   "outputs": [
    {
     "data": {
      "image/png": "[encoded data removed]",
      "text/plain": [
       "<Figure size 576x360 with 1 Axes>"
      ]
     },
     "metadata": {
      "needs_background": "light"
     },
     "output_type": "display_data"
    }
   ],
   "source": [
    "pd.DataFrame(history.history).plot(figsize=(8,5))\n",
    "plt.grid(True)\n",
    "plt.gca().set_ylim(0,1)\n",
    "plt.show()"
   ]
  },
  {
   "cell_type": "code",
   "execution_count": 25,
   "metadata": {},
   "outputs": [
    {
     "data": {
      "text/plain": [
       "1718.75"
      ]
     },
     "execution_count": 25,
     "metadata": {},
     "output_type": "execute_result"
    }
   ],
   "source": [
    "55000/32 # number of minibactchs of len 32"
   ]
  },
  {
   "cell_type": "code",
   "execution_count": 36,
   "metadata": {},
   "outputs": [
    {
     "name": "stdout",
     "output_type": "stream",
     "text": [
      "10000/10000 [==============================] - 11s 1ms/step - loss: 121.0517 - accuracy: 0.8434\n"
     ]
    },
    {
     "data": {
      "text/plain": [
       "[121.05171203613281, 0.8434000015258789]"
      ]
     },
     "execution_count": 36,
     "metadata": {},
     "output_type": "execute_result"
    }
   ],
   "source": [
    "model.evaluate(X_test, y_test, batch_size=1)"
   ]
  },
  {
   "cell_type": "code",
   "execution_count": 37,
   "metadata": {},
   "outputs": [
    {
     "data": {
      "text/plain": [
       "312.5"
      ]
     },
     "execution_count": 37,
     "metadata": {},
     "output_type": "execute_result"
    }
   ],
   "source": [
    "X_test.shape[0]/32"
   ]
  },
  {
   "cell_type": "markdown",
   "metadata": {},
   "source": [
    "### Predictions"
   ]
  },
  {
   "cell_type": "code",
   "execution_count": 38,
   "metadata": {},
   "outputs": [
    {
     "data": {
      "text/plain": [
       "array([[0., 0., 0., 0., 0., 0., 0., 0., 0., 1.],\n",
       "       [0., 0., 1., 0., 0., 0., 0., 0., 0., 0.],\n",
       "       [0., 1., 0., 0., 0., 0., 0., 0., 0., 0.]], dtype=float32)"
      ]
     },
     "execution_count": 38,
     "metadata": {},
     "output_type": "execute_result"
    }
   ],
   "source": [
    "X_new = X_test[:3]\n",
    "y_proba = model.predict(X_new)\n",
    "y_proba.round(3)"
   ]
  },
  {
   "cell_type": "code",
   "execution_count": 39,
   "metadata": {},
   "outputs": [
    {
     "name": "stdout",
     "output_type": "stream",
     "text": [
      "WARNING:tensorflow:From <ipython-input-39-5569b3de7749>:2: Sequential.predict_classes (from tensorflow.python.keras.engine.sequential) is deprecated and will be removed after 2021-01-01.\n",
      "Instructions for updating:\n",
      "Please use instead:* `np.argmax(model.predict(x), axis=-1)`,   if your model does multi-class classification   (e.g. if it uses a `softmax` last-layer activation).* `(model.predict(x) > 0.5).astype(\"int32\")`,   if your model does binary classification   (e.g. if it uses a `sigmoid` last-layer activation).\n"
     ]
    },
    {
     "data": {
      "text/plain": [
       "array([9, 2, 1], dtype=int64)"
      ]
     },
     "execution_count": 39,
     "metadata": {},
     "output_type": "execute_result"
    }
   ],
   "source": [
    "X_new = X_test[:3]\n",
    "y_pred = model.predict_classes(X_new)\n",
    "y_pred"
   ]
  },
  {
   "cell_type": "code",
   "execution_count": 40,
   "metadata": {},
   "outputs": [
    {
     "data": {
      "text/plain": [
       "array(['Ankle boot', 'Pullover', 'Trouser'], dtype='<U10')"
      ]
     },
     "execution_count": 40,
     "metadata": {},
     "output_type": "execute_result"
    }
   ],
   "source": [
    "np.array(class_names)[y_pred]"
   ]
  },
  {
   "cell_type": "markdown",
   "metadata": {},
   "source": [
    "# Keras Functional API"
   ]
  },
  {
   "cell_type": "code",
   "execution_count": 10,
   "metadata": {},
   "outputs": [],
   "source": [
    "from sklearn.datasets import fetch_california_housing\n",
    "from sklearn.model_selection import train_test_split\n",
    "from sklearn.preprocessing import StandardScaler\n",
    "\n",
    "housing = fetch_california_housing()\n",
    "X_train_full, X_test, y_train_full, y_test = train_test_split(housing.data, housing.target)\n",
    "X_train, X_valid, y_train, y_valid = train_test_split(X_train_full, y_train_full)\n",
    "\n",
    "scaler = StandardScaler()\n",
    "X_train = scaler.fit_transform(X_train)\n",
    "X_valid = scaler.transform(X_valid)\n",
    "X_test = scaler.transform(X_test)"
   ]
  },
  {
   "cell_type": "code",
   "execution_count": 3,
   "metadata": {},
   "outputs": [
    {
     "data": {
      "text/plain": [
       "(11610, 8)"
      ]
     },
     "execution_count": 3,
     "metadata": {},
     "output_type": "execute_result"
    }
   ],
   "source": [
    "X_train.shape"
   ]
  },
  {
   "cell_type": "code",
   "execution_count": 7,
   "metadata": {},
   "outputs": [],
   "source": [
    "input_ = keras.layers.Input(shape=X_train.shape[1:])\n",
    "hidden1 = keras.layers.Dense(30, activation=\"relu\")(input_)\n",
    "hidden2 = keras.layers.Dense(30, activation=\"relu\")(hidden1)\n",
    "concat = keras.layers.Concatenate()([input_, hidden2])\n",
    "output = keras.layers.Dense(1)(concat)\n",
    "model = keras.Model(inputs=[input_], outputs=[output])"
   ]
  },
  {
   "cell_type": "code",
   "execution_count": 8,
   "metadata": {},
   "outputs": [
    {
     "name": "stdout",
     "output_type": "stream",
     "text": [
      "('Failed to import pydot. You must `pip install pydot` and install graphviz (https://graphviz.gitlab.io/download/), ', 'for `pydotprint` to work.')\n"
     ]
    }
   ],
   "source": [
    "keras.utils.plot_model(model)"
   ]
  },
  {
   "cell_type": "markdown",
   "metadata": {},
   "source": [
    "#### Multiple inputs"
   ]
  },
  {
   "cell_type": "code",
   "execution_count": 4,
   "metadata": {},
   "outputs": [],
   "source": [
    "input_A = keras.layers.Input(shape=[5], name=\"wide_input\")\n",
    "input_B = keras.layers.Input(shape=[6], name=\"deep_input\")\n",
    "hidden1 = keras.layers.Dense(30, activation=\"relu\")(input_B)\n",
    "hidden2 = keras.layers.Dense(30, activation=\"relu\")(hidden1)\n",
    "concat = keras.layers.Concatenate()([input_A, hidden2])\n",
    "output = keras.layers.Dense(1)(concat)\n",
    "model = keras.Model(inputs=[input_A, input_B], outputs=[output])"
   ]
  },
  {
   "cell_type": "code",
   "execution_count": 15,
   "metadata": {},
   "outputs": [],
   "source": [
    "model.compile(loss=\"mse\", optimizer=keras.optimizers.SGD(lr=1e-3))"
   ]
  },
  {
   "cell_type": "code",
   "execution_count": 9,
   "metadata": {
    "collapsed": true,
    "jupyter": {
     "outputs_hidden": true
    }
   },
   "outputs": [
    {
     "name": "stdout",
     "output_type": "stream",
     "text": [
      "Epoch 1/30\n",
      "363/363 [==============================] - 1s 2ms/step - loss: 2.5666 - main_output_loss: 2.3051 - aux_output_loss: 4.9197 - val_loss: 1.4776 - val_main_output_loss: 1.2425 - val_aux_output_loss: 3.5941\n",
      "Epoch 2/30\n",
      "363/363 [==============================] - 0s 1ms/step - loss: 1.2771 - main_output_loss: 1.0861 - aux_output_loss: 2.9958 - val_loss: 1.0308 - val_main_output_loss: 0.8877 - val_aux_output_loss: 2.3184\n",
      "Epoch 3/30\n",
      "363/363 [==============================] - 0s 1ms/step - loss: 0.9870 - main_output_loss: 0.8632 - aux_output_loss: 2.1015 - val_loss: 0.8698 - val_main_output_loss: 0.7659 - val_aux_output_loss: 1.8050\n",
      "Epoch 4/30\n",
      "363/363 [==============================] - 0s 1ms/step - loss: 0.8625 - main_output_loss: 0.7638 - aux_output_loss: 1.7507 - val_loss: 0.7902 - val_main_output_loss: 0.7002 - val_aux_output_loss: 1.6006\n",
      "Epoch 5/30\n",
      "363/363 [==============================] - 0s 1ms/step - loss: 0.7976 - main_output_loss: 0.7092 - aux_output_loss: 1.5928 - val_loss: 0.7407 - val_main_output_loss: 0.6556 - val_aux_output_loss: 1.5064\n",
      "Epoch 6/30\n",
      "363/363 [==============================] - 0s 1ms/step - loss: 0.7530 - main_output_loss: 0.6693 - aux_output_loss: 1.5065 - val_loss: 0.7059 - val_main_output_loss: 0.6234 - val_aux_output_loss: 1.4483\n",
      "Epoch 7/30\n",
      "363/363 [==============================] - 0s 1ms/step - loss: 0.7190 - main_output_loss: 0.6378 - aux_output_loss: 1.4501 - val_loss: 0.6783 - val_main_output_loss: 0.5975 - val_aux_output_loss: 1.4060\n",
      "Epoch 8/30\n",
      "363/363 [==============================] - 0s 1ms/step - loss: 0.6916 - main_output_loss: 0.6122 - aux_output_loss: 1.4067 - val_loss: 0.6545 - val_main_output_loss: 0.5749 - val_aux_output_loss: 1.3707\n",
      "Epoch 9/30\n",
      "363/363 [==============================] - 0s 1ms/step - loss: 0.6683 - main_output_loss: 0.5902 - aux_output_loss: 1.3708 - val_loss: 0.6375 - val_main_output_loss: 0.5593 - val_aux_output_loss: 1.3407\n",
      "Epoch 10/30\n",
      "363/363 [==============================] - 0s 1ms/step - loss: 0.6500 - main_output_loss: 0.5733 - aux_output_loss: 1.3396 - val_loss: 0.6190 - val_main_output_loss: 0.5421 - val_aux_output_loss: 1.3113\n",
      "Epoch 11/30\n",
      "363/363 [==============================] - 1s 1ms/step - loss: 0.6330 - main_output_loss: 0.5575 - aux_output_loss: 1.3121 - val_loss: 0.6067 - val_main_output_loss: 0.5313 - val_aux_output_loss: 1.2859\n",
      "Epoch 12/30\n",
      "363/363 [==============================] - 0s 1ms/step - loss: 0.6195 - main_output_loss: 0.5453 - aux_output_loss: 1.2871 - val_loss: 0.5930 - val_main_output_loss: 0.5187 - val_aux_output_loss: 1.2622\n",
      "Epoch 13/30\n",
      "363/363 [==============================] - 0s 1ms/step - loss: 0.6074 - main_output_loss: 0.5344 - aux_output_loss: 1.2639 - val_loss: 0.5823 - val_main_output_loss: 0.5091 - val_aux_output_loss: 1.2408\n",
      "Epoch 14/30\n",
      "363/363 [==============================] - 0s 1ms/step - loss: 0.5971 - main_output_loss: 0.5253 - aux_output_loss: 1.2433 - val_loss: 0.5763 - val_main_output_loss: 0.5047 - val_aux_output_loss: 1.2209\n",
      "Epoch 15/30\n",
      "363/363 [==============================] - 0s 1ms/step - loss: 0.5888 - main_output_loss: 0.5182 - aux_output_loss: 1.2238 - val_loss: 0.5657 - val_main_output_loss: 0.4950 - val_aux_output_loss: 1.2016\n",
      "Epoch 16/30\n",
      "363/363 [==============================] - 0s 1ms/step - loss: 0.5818 - main_output_loss: 0.5125 - aux_output_loss: 1.2055 - val_loss: 0.5588 - val_main_output_loss: 0.4895 - val_aux_output_loss: 1.1824\n",
      "Epoch 17/30\n",
      "363/363 [==============================] - 0s 1ms/step - loss: 0.5755 - main_output_loss: 0.5074 - aux_output_loss: 1.1881 - val_loss: 0.5537 - val_main_output_loss: 0.4858 - val_aux_output_loss: 1.1649\n",
      "Epoch 18/30\n",
      "363/363 [==============================] - 0s 1ms/step - loss: 0.5699 - main_output_loss: 0.5031 - aux_output_loss: 1.1712 - val_loss: 0.5489 - val_main_output_loss: 0.4824 - val_aux_output_loss: 1.1477\n",
      "Epoch 19/30\n",
      "363/363 [==============================] - 0s 1ms/step - loss: 0.5647 - main_output_loss: 0.4992 - aux_output_loss: 1.1547 - val_loss: 0.5430 - val_main_output_loss: 0.4777 - val_aux_output_loss: 1.1303\n",
      "Epoch 20/30\n",
      "363/363 [==============================] - 0s 1ms/step - loss: 0.5599 - main_output_loss: 0.4956 - aux_output_loss: 1.1387 - val_loss: 0.5418 - val_main_output_loss: 0.4782 - val_aux_output_loss: 1.1141\n",
      "Epoch 21/30\n",
      "363/363 [==============================] - 0s 1ms/step - loss: 0.5562 - main_output_loss: 0.4933 - aux_output_loss: 1.1228 - val_loss: 0.5393 - val_main_output_loss: 0.4771 - val_aux_output_loss: 1.0992\n",
      "Epoch 22/30\n",
      "363/363 [==============================] - 0s 1ms/step - loss: 0.5521 - main_output_loss: 0.4904 - aux_output_loss: 1.1075 - val_loss: 0.5310 - val_main_output_loss: 0.4697 - val_aux_output_loss: 1.0820\n",
      "Epoch 23/30\n",
      "363/363 [==============================] - 0s 1ms/step - loss: 0.5477 - main_output_loss: 0.4872 - aux_output_loss: 1.0928 - val_loss: 0.5274 - val_main_output_loss: 0.4675 - val_aux_output_loss: 1.0671\n",
      "Epoch 24/30\n",
      "363/363 [==============================] - 0s 1ms/step - loss: 0.5447 - main_output_loss: 0.4854 - aux_output_loss: 1.0782 - val_loss: 0.5231 - val_main_output_loss: 0.4643 - val_aux_output_loss: 1.0529\n",
      "Epoch 25/30\n",
      "363/363 [==============================] - 0s 1ms/step - loss: 0.5412 - main_output_loss: 0.4831 - aux_output_loss: 1.0640 - val_loss: 0.5215 - val_main_output_loss: 0.4641 - val_aux_output_loss: 1.0379\n",
      "Epoch 26/30\n",
      "363/363 [==============================] - 0s 1ms/step - loss: 0.5388 - main_output_loss: 0.4820 - aux_output_loss: 1.0504 - val_loss: 0.5177 - val_main_output_loss: 0.4615 - val_aux_output_loss: 1.0242\n",
      "Epoch 27/30\n",
      "363/363 [==============================] - 0s 1ms/step - loss: 0.5350 - main_output_loss: 0.4792 - aux_output_loss: 1.0366 - val_loss: 0.5147 - val_main_output_loss: 0.4596 - val_aux_output_loss: 1.0104\n",
      "Epoch 28/30\n",
      "363/363 [==============================] - 0s 1ms/step - loss: 0.5322 - main_output_loss: 0.4777 - aux_output_loss: 1.0233 - val_loss: 0.5124 - val_main_output_loss: 0.4585 - val_aux_output_loss: 0.9976\n",
      "Epoch 29/30\n",
      "363/363 [==============================] - 0s 1ms/step - loss: 0.5290 - main_output_loss: 0.4755 - aux_output_loss: 1.0103 - val_loss: 0.5126 - val_main_output_loss: 0.4602 - val_aux_output_loss: 0.9847\n",
      "Epoch 30/30\n",
      "363/363 [==============================] - 0s 1ms/step - loss: 0.5271 - main_output_loss: 0.4748 - aux_output_loss: 0.9977 - val_loss: 0.5075 - val_main_output_loss: 0.4560 - val_aux_output_loss: 0.9714\n"
     ]
    }
   ],
   "source": [
    "X_train_A, X_train_B = X_train[:, :5], X_train[:, 2:]\n",
    "X_valid_A, X_valid_B = X_valid[:, :5], X_valid[:, 2:]\n",
    "X_test_A, X_test_B = X_test[:, :5], X_test[:, 2:]\n",
    "X_new_A, X_new_B = X_test[:, :5], X_test[:, 2:]\n",
    "\n",
    "history = model.fit((X_train_A, X_train_B), y_train, epochs=30, validation_data=((X_valid_A, X_valid_B), y_valid))"
   ]
  },
  {
   "cell_type": "code",
   "execution_count": 20,
   "metadata": {},
   "outputs": [
    {
     "name": "stdout",
     "output_type": "stream",
     "text": [
      "5160/5160 [==============================] - 6s 1ms/step - loss: 0.4195\n"
     ]
    }
   ],
   "source": [
    "mse_test = model.evaluate((X_test_A, X_test_B), y_test, batch_size=1)\n",
    "y_pred = model.predict((X_new_A, X_new_B))"
   ]
  },
  {
   "cell_type": "markdown",
   "metadata": {},
   "source": [
    "#### Multiple Outputs"
   ]
  },
  {
   "cell_type": "code",
   "execution_count": 19,
   "metadata": {},
   "outputs": [],
   "source": [
    "input_A = keras.layers.Input(shape=[5], name=\"wide_input\")\n",
    "input_B = keras.layers.Input(shape=[6], name=\"deep_input\")\n",
    "hidden1 = keras.layers.Dense(30, activation=\"relu\")(input_B)\n",
    "hidden2 = keras.layers.Dense(30, activation=\"relu\")(hidden1)\n",
    "concat = keras.layers.Concatenate()([input_A, hidden2])\n",
    "output = keras.layers.Dense(1, name=\"main_output\")(concat)\n",
    "output_aux = keras.layers.Dense(1, name=\"aux_output\")(hidden2)\n",
    "model = keras.Model(inputs=[input_A, input_B], outputs=[output, output_aux])"
   ]
  },
  {
   "cell_type": "code",
   "execution_count": 20,
   "metadata": {},
   "outputs": [],
   "source": [
    "## each output needs its own loss \n",
    "model.compile(loss=[\"mse\", \"mse\"], loss_weights=[0.9, 0.1], optimizer=keras.optimizers.SGD(lr=1e-5))"
   ]
  },
  {
   "cell_type": "code",
   "execution_count": 23,
   "metadata": {
    "collapsed": true,
    "jupyter": {
     "outputs_hidden": true
    }
   },
   "outputs": [
    {
     "name": "stdout",
     "output_type": "stream",
     "text": [
      "Epoch 1/30\n",
      "363/363 [==============================] - 1s 2ms/step - loss: 2.6321 - main_output_loss: 2.4599 - aux_output_loss: 4.1819 - val_loss: 1.3380 - val_main_output_loss: 1.1069 - val_aux_output_loss: 3.4181\n",
      "Epoch 2/30\n",
      "363/363 [==============================] - 0s 1ms/step - loss: 1.0641 - main_output_loss: 0.8542 - aux_output_loss: 2.9527 - val_loss: 0.9280 - val_main_output_loss: 0.7476 - val_aux_output_loss: 2.5509\n",
      "Epoch 3/30\n",
      "363/363 [==============================] - 0s 1ms/step - loss: 0.8510 - main_output_loss: 0.6889 - aux_output_loss: 2.3098 - val_loss: 0.8124 - val_main_output_loss: 0.6721 - val_aux_output_loss: 2.0746\n",
      "Epoch 4/30\n",
      "363/363 [==============================] - 0s 1ms/step - loss: 0.7759 - main_output_loss: 0.6452 - aux_output_loss: 1.9522 - val_loss: 0.7594 - val_main_output_loss: 0.6420 - val_aux_output_loss: 1.8166\n",
      "Epoch 5/30\n",
      "363/363 [==============================] - 0s 1ms/step - loss: 0.7361 - main_output_loss: 0.6229 - aux_output_loss: 1.7543 - val_loss: 0.7287 - val_main_output_loss: 0.6231 - val_aux_output_loss: 1.6789\n",
      "Epoch 6/30\n",
      "363/363 [==============================] - 0s 1ms/step - loss: 0.7097 - main_output_loss: 0.6069 - aux_output_loss: 1.6349 - val_loss: 0.7067 - val_main_output_loss: 0.6084 - val_aux_output_loss: 1.5910\n",
      "Epoch 7/30\n",
      "363/363 [==============================] - 0s 1ms/step - loss: 0.6894 - main_output_loss: 0.5937 - aux_output_loss: 1.5506 - val_loss: 0.6892 - val_main_output_loss: 0.5961 - val_aux_output_loss: 1.5272\n",
      "Epoch 8/30\n",
      "363/363 [==============================] - 0s 1ms/step - loss: 0.6716 - main_output_loss: 0.5810 - aux_output_loss: 1.4873 - val_loss: 0.6734 - val_main_output_loss: 0.5839 - val_aux_output_loss: 1.4789\n",
      "Epoch 9/30\n",
      "363/363 [==============================] - 0s 1ms/step - loss: 0.6556 - main_output_loss: 0.5690 - aux_output_loss: 1.4352 - val_loss: 0.6605 - val_main_output_loss: 0.5744 - val_aux_output_loss: 1.4358\n",
      "Epoch 10/30\n",
      "363/363 [==============================] - 0s 1ms/step - loss: 0.6407 - main_output_loss: 0.5570 - aux_output_loss: 1.3938 - val_loss: 0.6463 - val_main_output_loss: 0.5628 - val_aux_output_loss: 1.3980\n",
      "Epoch 11/30\n",
      "363/363 [==============================] - 0s 1ms/step - loss: 0.6278 - main_output_loss: 0.5471 - aux_output_loss: 1.3541 - val_loss: 0.6343 - val_main_output_loss: 0.5532 - val_aux_output_loss: 1.3648\n",
      "Epoch 12/30\n",
      "363/363 [==============================] - 0s 1ms/step - loss: 0.6157 - main_output_loss: 0.5373 - aux_output_loss: 1.3221 - val_loss: 0.6236 - val_main_output_loss: 0.5447 - val_aux_output_loss: 1.3339\n",
      "Epoch 13/30\n",
      "363/363 [==============================] - 0s 1ms/step - loss: 0.6063 - main_output_loss: 0.5302 - aux_output_loss: 1.2914 - val_loss: 0.6136 - val_main_output_loss: 0.5366 - val_aux_output_loss: 1.3060\n",
      "Epoch 14/30\n",
      "363/363 [==============================] - 0s 1ms/step - loss: 0.5961 - main_output_loss: 0.5218 - aux_output_loss: 1.2649 - val_loss: 0.6036 - val_main_output_loss: 0.5284 - val_aux_output_loss: 1.2801\n",
      "Epoch 15/30\n",
      "363/363 [==============================] - 0s 1ms/step - loss: 0.5870 - main_output_loss: 0.5145 - aux_output_loss: 1.2397 - val_loss: 0.5945 - val_main_output_loss: 0.5212 - val_aux_output_loss: 1.2551\n",
      "Epoch 16/30\n",
      "363/363 [==============================] - 0s 1ms/step - loss: 0.5784 - main_output_loss: 0.5075 - aux_output_loss: 1.2171 - val_loss: 0.5856 - val_main_output_loss: 0.5137 - val_aux_output_loss: 1.2320\n",
      "Epoch 17/30\n",
      "363/363 [==============================] - 0s 1ms/step - loss: 0.5708 - main_output_loss: 0.5015 - aux_output_loss: 1.1948 - val_loss: 0.5778 - val_main_output_loss: 0.5076 - val_aux_output_loss: 1.2095\n",
      "Epoch 18/30\n",
      "363/363 [==============================] - 0s 1ms/step - loss: 0.5632 - main_output_loss: 0.4955 - aux_output_loss: 1.1729 - val_loss: 0.5703 - val_main_output_loss: 0.5017 - val_aux_output_loss: 1.1876\n",
      "Epoch 19/30\n",
      "363/363 [==============================] - 0s 1ms/step - loss: 0.5563 - main_output_loss: 0.4900 - aux_output_loss: 1.1529 - val_loss: 0.5637 - val_main_output_loss: 0.4967 - val_aux_output_loss: 1.1667\n",
      "Epoch 20/30\n",
      "363/363 [==============================] - 0s 1ms/step - loss: 0.5490 - main_output_loss: 0.4841 - aux_output_loss: 1.1337 - val_loss: 0.5576 - val_main_output_loss: 0.4921 - val_aux_output_loss: 1.1472\n",
      "Epoch 21/30\n",
      "363/363 [==============================] - 0s 1ms/step - loss: 0.5439 - main_output_loss: 0.4805 - aux_output_loss: 1.1145 - val_loss: 0.5513 - val_main_output_loss: 0.4873 - val_aux_output_loss: 1.1280\n",
      "Epoch 22/30\n",
      "363/363 [==============================] - 0s 1ms/step - loss: 0.5377 - main_output_loss: 0.4756 - aux_output_loss: 1.0970 - val_loss: 0.5450 - val_main_output_loss: 0.4824 - val_aux_output_loss: 1.1086\n",
      "Epoch 23/30\n",
      "363/363 [==============================] - 0s 1ms/step - loss: 0.5322 - main_output_loss: 0.4715 - aux_output_loss: 1.0788 - val_loss: 0.5396 - val_main_output_loss: 0.4783 - val_aux_output_loss: 1.0908\n",
      "Epoch 24/30\n",
      "363/363 [==============================] - 0s 1ms/step - loss: 0.5273 - main_output_loss: 0.4679 - aux_output_loss: 1.0619 - val_loss: 0.5350 - val_main_output_loss: 0.4752 - val_aux_output_loss: 1.0734\n",
      "Epoch 25/30\n",
      "363/363 [==============================] - 0s 1ms/step - loss: 0.5221 - main_output_loss: 0.4640 - aux_output_loss: 1.0450 - val_loss: 0.5297 - val_main_output_loss: 0.4712 - val_aux_output_loss: 1.0561\n",
      "Epoch 26/30\n",
      "363/363 [==============================] - 0s 1ms/step - loss: 0.5180 - main_output_loss: 0.4612 - aux_output_loss: 1.0294 - val_loss: 0.5249 - val_main_output_loss: 0.4676 - val_aux_output_loss: 1.0402\n",
      "Epoch 27/30\n",
      "363/363 [==============================] - 0s 1ms/step - loss: 0.5127 - main_output_loss: 0.4570 - aux_output_loss: 1.0139 - val_loss: 0.5201 - val_main_output_loss: 0.4641 - val_aux_output_loss: 1.0239\n",
      "Epoch 28/30\n",
      "363/363 [==============================] - 0s 1ms/step - loss: 0.5078 - main_output_loss: 0.4532 - aux_output_loss: 0.9995 - val_loss: 0.5157 - val_main_output_loss: 0.4608 - val_aux_output_loss: 1.0096\n",
      "Epoch 29/30\n",
      "363/363 [==============================] - 0s 1ms/step - loss: 0.5043 - main_output_loss: 0.4509 - aux_output_loss: 0.9848 - val_loss: 0.5117 - val_main_output_loss: 0.4580 - val_aux_output_loss: 0.9945\n",
      "Epoch 30/30\n",
      "363/363 [==============================] - 0s 1ms/step - loss: 0.5002 - main_output_loss: 0.4480 - aux_output_loss: 0.9705 - val_loss: 0.5074 - val_main_output_loss: 0.4549 - val_aux_output_loss: 0.9803\n"
     ]
    }
   ],
   "source": [
    "history = model.fit([X_train_A, X_train_B], [y_train, y_train], epochs=30, validation_data=([X_valid_A, X_valid_B], [y_valid, y_valid]))"
   ]
  },
  {
   "cell_type": "code",
   "execution_count": 25,
   "metadata": {},
   "outputs": [
    {
     "name": "stdout",
     "output_type": "stream",
     "text": [
      "162/162 [==============================] - 0s 796us/step - loss: 0.5046 - main_output_loss: 0.4491 - aux_output_loss: 1.0035\n"
     ]
    }
   ],
   "source": [
    "total_loss, main_loss, aux_loss = model.evaluate([X_test_A, X_test_B], [y_test, y_test])"
   ]
  },
  {
   "cell_type": "code",
   "execution_count": 26,
   "metadata": {},
   "outputs": [],
   "source": [
    "y_pred_main, y_pred_aux = model.predict([X_new_A, X_new_B])"
   ]
  },
  {
   "cell_type": "code",
   "execution_count": 27,
   "metadata": {},
   "outputs": [
    {
     "data": {
      "text/plain": [
       "array([[0.9050617],\n",
       "       [0.6616001],\n",
       "       [2.1296847],\n",
       "       ...,\n",
       "       [2.7350054],\n",
       "       [3.0624657],\n",
       "       [1.9652317]], dtype=float32)"
      ]
     },
     "execution_count": 27,
     "metadata": {},
     "output_type": "execute_result"
    }
   ],
   "source": [
    "y_pred_main"
   ]
  },
  {
   "cell_type": "code",
   "execution_count": 28,
   "metadata": {},
   "outputs": [
    {
     "data": {
      "text/plain": [
       "array([[1.5537205],\n",
       "       [1.4857268],\n",
       "       [1.9483924],\n",
       "       ...,\n",
       "       [2.1941953],\n",
       "       [2.1259003],\n",
       "       [1.8979888]], dtype=float32)"
      ]
     },
     "execution_count": 28,
     "metadata": {},
     "output_type": "execute_result"
    }
   ],
   "source": [
    "y_pred_aux"
   ]
  },
  {
   "cell_type": "markdown",
   "metadata": {},
   "source": [
    "#### Saving"
   ]
  },
  {
   "cell_type": "code",
   "execution_count": 29,
   "metadata": {},
   "outputs": [],
   "source": [
    "model.save(\"my_keras_model.h5\")"
   ]
  },
  {
   "cell_type": "code",
   "execution_count": 30,
   "metadata": {},
   "outputs": [],
   "source": [
    "model_loaded = keras.models.load_model(\"my_keras_model.h5\")"
   ]
  },
  {
   "cell_type": "code",
   "execution_count": 31,
   "metadata": {},
   "outputs": [
    {
     "data": {
      "text/plain": [
       "[array([[0.9050617],\n",
       "        [0.6616001],\n",
       "        [2.1296847],\n",
       "        ...,\n",
       "        [2.7350054],\n",
       "        [3.0624657],\n",
       "        [1.9652317]], dtype=float32),\n",
       " array([[1.5537205],\n",
       "        [1.4857268],\n",
       "        [1.9483924],\n",
       "        ...,\n",
       "        [2.1941953],\n",
       "        [2.1259003],\n",
       "        [1.8979888]], dtype=float32)]"
      ]
     },
     "execution_count": 31,
     "metadata": {},
     "output_type": "execute_result"
    }
   ],
   "source": [
    "model_loaded.predict([X_new_A, X_new_B])"
   ]
  },
  {
   "cell_type": "markdown",
   "metadata": {},
   "source": [
    "## CallBacks : checkpoint, earlyStoping ad Tensorboard"
   ]
  },
  {
   "cell_type": "code",
   "execution_count": 21,
   "metadata": {},
   "outputs": [],
   "source": [
    "# create the tensorboard log file\n",
    "import os\n",
    "root_logdir = os.path.join(os.curdir, \"my_logs\")\n",
    "\n",
    "def get_run_logdir():\n",
    "    import time\n",
    "    run_id = time.strftime(\"run_%Y_%m_%d_%H_%M_%S\")\n",
    "    return os.path.join(root_logdir, run_id)\n"
   ]
  },
  {
   "cell_type": "code",
   "execution_count": 22,
   "metadata": {
    "collapsed": true,
    "jupyter": {
     "outputs_hidden": true
    }
   },
   "outputs": [
    {
     "name": "stdout",
     "output_type": "stream",
     "text": [
      "Epoch 1/200\n",
      "  2/363 [..............................] - ETA: 2:11 - loss: 5.2667 - main_output_loss: 5.4456 - aux_output_loss: 3.6565WARNING:tensorflow:Callbacks method `on_train_batch_begin` is slow compared to the batch time (batch time: 0.0010s vs `on_train_batch_begin` time: 0.0220s). Check your callbacks.\n",
      "WARNING:tensorflow:Callbacks method `on_train_batch_end` is slow compared to the batch time (batch time: 0.0010s vs `on_train_batch_end` time: 0.7030s). Check your callbacks.\n",
      "363/363 [==============================] - 1s 4ms/step - loss: 5.3652 - main_output_loss: 5.5224 - aux_output_loss: 3.9506 - val_loss: 5.2074 - val_main_output_loss: 5.3535 - val_aux_output_loss: 3.8926\n",
      "Epoch 2/200\n",
      "363/363 [==============================] - 0s 1ms/step - loss: 5.2206 - main_output_loss: 5.3637 - aux_output_loss: 3.9326 - val_loss: 5.0688 - val_main_output_loss: 5.2015 - val_aux_output_loss: 3.8750\n",
      "Epoch 3/200\n",
      "363/363 [==============================] - 0s 1ms/step - loss: 5.0810 - main_output_loss: 5.2107 - aux_output_loss: 3.9141 - val_loss: 4.9350 - val_main_output_loss: 5.0548 - val_aux_output_loss: 3.8570\n",
      "Epoch 4/200\n",
      "363/363 [==============================] - 0s 1ms/step - loss: 4.9461 - main_output_loss: 5.0629 - aux_output_loss: 3.8953 - val_loss: 4.8056 - val_main_output_loss: 4.9131 - val_aux_output_loss: 3.8385\n",
      "Epoch 5/200\n",
      "363/363 [==============================] - 0s 1ms/step - loss: 4.8158 - main_output_loss: 4.9202 - aux_output_loss: 3.8759 - val_loss: 4.6804 - val_main_output_loss: 4.7761 - val_aux_output_loss: 3.8196\n",
      "Epoch 6/200\n",
      "363/363 [==============================] - 0s 1ms/step - loss: 4.6899 - main_output_loss: 4.7825 - aux_output_loss: 3.8562 - val_loss: 4.5593 - val_main_output_loss: 4.6436 - val_aux_output_loss: 3.8002\n",
      "Epoch 7/200\n",
      "363/363 [==============================] - 0s 1ms/step - loss: 4.5681 - main_output_loss: 4.6494 - aux_output_loss: 3.8361 - val_loss: 4.4419 - val_main_output_loss: 4.5154 - val_aux_output_loss: 3.7805\n",
      "Epoch 8/200\n",
      "363/363 [==============================] - 0s 1ms/step - loss: 4.4503 - main_output_loss: 4.5208 - aux_output_loss: 3.8156 - val_loss: 4.3282 - val_main_output_loss: 4.3913 - val_aux_output_loss: 3.7604\n",
      "Epoch 9/200\n",
      "363/363 [==============================] - 0s 1ms/step - loss: 4.3362 - main_output_loss: 4.3964 - aux_output_loss: 3.7947 - val_loss: 4.2181 - val_main_output_loss: 4.2712 - val_aux_output_loss: 3.7400\n",
      "Epoch 10/200\n",
      "363/363 [==============================] - 0s 1ms/step - loss: 4.2259 - main_output_loss: 4.2761 - aux_output_loss: 3.7736 - val_loss: 4.1114 - val_main_output_loss: 4.1550 - val_aux_output_loss: 3.7193\n",
      "Epoch 11/200\n",
      "363/363 [==============================] - 0s 1ms/step - loss: 4.1190 - main_output_loss: 4.1597 - aux_output_loss: 3.7522 - val_loss: 4.0079 - val_main_output_loss: 4.0423 - val_aux_output_loss: 3.6985\n",
      "Epoch 12/200\n",
      "363/363 [==============================] - 0s 1ms/step - loss: 4.0154 - main_output_loss: 4.0471 - aux_output_loss: 3.7305 - val_loss: 3.9077 - val_main_output_loss: 3.9332 - val_aux_output_loss: 3.6776\n",
      "Epoch 13/200\n",
      "363/363 [==============================] - 0s 1ms/step - loss: 3.9152 - main_output_loss: 3.9381 - aux_output_loss: 3.7086 - val_loss: 3.8105 - val_main_output_loss: 3.8276 - val_aux_output_loss: 3.6564\n",
      "Epoch 14/200\n",
      "363/363 [==============================] - 0s 1ms/step - loss: 3.8180 - main_output_loss: 3.8326 - aux_output_loss: 3.6866 - val_loss: 3.7162 - val_main_output_loss: 3.7253 - val_aux_output_loss: 3.6350\n",
      "Epoch 15/200\n",
      "363/363 [==============================] - 0s 1ms/step - loss: 3.7239 - main_output_loss: 3.7305 - aux_output_loss: 3.6643 - val_loss: 3.6249 - val_main_output_loss: 3.6261 - val_aux_output_loss: 3.6135\n",
      "Epoch 16/200\n",
      "363/363 [==============================] - 0s 1ms/step - loss: 3.6327 - main_output_loss: 3.6317 - aux_output_loss: 3.6418 - val_loss: 3.5363 - val_main_output_loss: 3.5302 - val_aux_output_loss: 3.5918\n",
      "Epoch 17/200\n",
      "363/363 [==============================] - 1s 1ms/step - loss: 3.5445 - main_output_loss: 3.5362 - aux_output_loss: 3.6193 - val_loss: 3.4504 - val_main_output_loss: 3.4372 - val_aux_output_loss: 3.5699\n",
      "Epoch 18/200\n",
      "363/363 [==============================] - 0s 1ms/step - loss: 3.4590 - main_output_loss: 3.4437 - aux_output_loss: 3.5967 - val_loss: 3.3672 - val_main_output_loss: 3.3471 - val_aux_output_loss: 3.5480\n",
      "Epoch 19/200\n",
      "363/363 [==============================] - 0s 1ms/step - loss: 3.3761 - main_output_loss: 3.3542 - aux_output_loss: 3.5740 - val_loss: 3.2865 - val_main_output_loss: 3.2599 - val_aux_output_loss: 3.5260\n",
      "Epoch 20/200\n",
      "363/363 [==============================] - 0s 1ms/step - loss: 3.2960 - main_output_loss: 3.2677 - aux_output_loss: 3.5511 - val_loss: 3.2084 - val_main_output_loss: 3.1756 - val_aux_output_loss: 3.5039\n",
      "Epoch 21/200\n",
      "363/363 [==============================] - 1s 2ms/step - loss: 3.2185 - main_output_loss: 3.1841 - aux_output_loss: 3.5284 - val_loss: 3.1328 - val_main_output_loss: 3.0940 - val_aux_output_loss: 3.4819\n",
      "Epoch 22/200\n",
      "363/363 [==============================] - 0s 1ms/step - loss: 3.1436 - main_output_loss: 3.1034 - aux_output_loss: 3.5056 - val_loss: 3.0595 - val_main_output_loss: 3.0151 - val_aux_output_loss: 3.4598\n",
      "Epoch 23/200\n",
      "363/363 [==============================] - 0s 1ms/step - loss: 3.0712 - main_output_loss: 3.0254 - aux_output_loss: 3.4829 - val_loss: 2.9887 - val_main_output_loss: 2.9389 - val_aux_output_loss: 3.4378\n",
      "Epoch 24/200\n",
      "363/363 [==============================] - 0s 1ms/step - loss: 3.0012 - main_output_loss: 2.9501 - aux_output_loss: 3.4602 - val_loss: 2.9202 - val_main_output_loss: 2.8651 - val_aux_output_loss: 3.4158\n",
      "Epoch 25/200\n",
      "363/363 [==============================] - 0s 1ms/step - loss: 2.9335 - main_output_loss: 2.8775 - aux_output_loss: 3.4374 - val_loss: 2.8539 - val_main_output_loss: 2.7940 - val_aux_output_loss: 3.3938\n",
      "Epoch 26/200\n",
      "363/363 [==============================] - 0s 1ms/step - loss: 2.8681 - main_output_loss: 2.8073 - aux_output_loss: 3.4150 - val_loss: 2.7899 - val_main_output_loss: 2.7252 - val_aux_output_loss: 3.3719\n",
      "Epoch 27/200\n",
      "363/363 [==============================] - 0s 1ms/step - loss: 2.8049 - main_output_loss: 2.7396 - aux_output_loss: 3.3925 - val_loss: 2.7280 - val_main_output_loss: 2.6589 - val_aux_output_loss: 3.3502\n",
      "Epoch 28/200\n",
      "363/363 [==============================] - 0s 1ms/step - loss: 2.7440 - main_output_loss: 2.6745 - aux_output_loss: 3.3703 - val_loss: 2.6682 - val_main_output_loss: 2.5948 - val_aux_output_loss: 3.3285\n",
      "Epoch 29/200\n",
      "363/363 [==============================] - 0s 1ms/step - loss: 2.6853 - main_output_loss: 2.6116 - aux_output_loss: 3.3482 - val_loss: 2.6105 - val_main_output_loss: 2.5331 - val_aux_output_loss: 3.3070\n",
      "Epoch 30/200\n",
      "363/363 [==============================] - 0s 1ms/step - loss: 2.6287 - main_output_loss: 2.5511 - aux_output_loss: 3.3262 - val_loss: 2.5548 - val_main_output_loss: 2.4736 - val_aux_output_loss: 3.2857\n",
      "Epoch 31/200\n",
      "363/363 [==============================] - 0s 1ms/step - loss: 2.5741 - main_output_loss: 2.4930 - aux_output_loss: 3.3045 - val_loss: 2.5011 - val_main_output_loss: 2.4162 - val_aux_output_loss: 3.2645\n",
      "Epoch 32/200\n",
      "363/363 [==============================] - 0s 1ms/step - loss: 2.5215 - main_output_loss: 2.4369 - aux_output_loss: 3.2830 - val_loss: 2.4493 - val_main_output_loss: 2.3611 - val_aux_output_loss: 3.2436\n",
      "Epoch 33/200\n",
      "363/363 [==============================] - 0s 1ms/step - loss: 2.4709 - main_output_loss: 2.3830 - aux_output_loss: 3.2618 - val_loss: 2.3995 - val_main_output_loss: 2.3080 - val_aux_output_loss: 3.2229\n",
      "Epoch 34/200\n",
      "363/363 [==============================] - 0s 1ms/step - loss: 2.4222 - main_output_loss: 2.3312 - aux_output_loss: 3.2406 - val_loss: 2.3515 - val_main_output_loss: 2.2570 - val_aux_output_loss: 3.2025\n",
      "Epoch 35/200\n",
      "363/363 [==============================] - 0s 1ms/step - loss: 2.3753 - main_output_loss: 2.2815 - aux_output_loss: 3.2197 - val_loss: 2.3054 - val_main_output_loss: 2.2079 - val_aux_output_loss: 3.1823\n",
      "Epoch 36/200\n",
      "363/363 [==============================] - 0s 1ms/step - loss: 2.3302 - main_output_loss: 2.2336 - aux_output_loss: 3.1991 - val_loss: 2.2609 - val_main_output_loss: 2.1608 - val_aux_output_loss: 3.1623\n",
      "Epoch 37/200\n",
      "363/363 [==============================] - 0s 1ms/step - loss: 2.2868 - main_output_loss: 2.1877 - aux_output_loss: 3.1789 - val_loss: 2.2181 - val_main_output_loss: 2.1154 - val_aux_output_loss: 3.1425\n",
      "Epoch 38/200\n",
      "363/363 [==============================] - 0s 1ms/step - loss: 2.2450 - main_output_loss: 2.1435 - aux_output_loss: 3.1587 - val_loss: 2.1770 - val_main_output_loss: 2.0719 - val_aux_output_loss: 3.1230\n",
      "Epoch 39/200\n",
      "363/363 [==============================] - 0s 1ms/step - loss: 2.2048 - main_output_loss: 2.1011 - aux_output_loss: 3.1387 - val_loss: 2.1374 - val_main_output_loss: 2.0300 - val_aux_output_loss: 3.1037\n",
      "Epoch 40/200\n",
      "363/363 [==============================] - 0s 1ms/step - loss: 2.1662 - main_output_loss: 2.0603 - aux_output_loss: 3.1192 - val_loss: 2.0993 - val_main_output_loss: 1.9898 - val_aux_output_loss: 3.0847\n",
      "Epoch 41/200\n",
      "363/363 [==============================] - 0s 1ms/step - loss: 2.1291 - main_output_loss: 2.0212 - aux_output_loss: 3.1001 - val_loss: 2.0627 - val_main_output_loss: 1.9512 - val_aux_output_loss: 3.0659\n",
      "Epoch 42/200\n",
      "363/363 [==============================] - 0s 1ms/step - loss: 2.0934 - main_output_loss: 1.9837 - aux_output_loss: 3.0810 - val_loss: 2.0275 - val_main_output_loss: 1.9142 - val_aux_output_loss: 3.0473\n",
      "Epoch 43/200\n",
      "363/363 [==============================] - 0s 1ms/step - loss: 2.0591 - main_output_loss: 1.9477 - aux_output_loss: 3.0624 - val_loss: 1.9937 - val_main_output_loss: 1.8786 - val_aux_output_loss: 3.0290\n",
      "Epoch 44/200\n",
      "363/363 [==============================] - 0s 1ms/step - loss: 2.0262 - main_output_loss: 1.9131 - aux_output_loss: 3.0440 - val_loss: 1.9612 - val_main_output_loss: 1.8445 - val_aux_output_loss: 3.0110\n",
      "Epoch 45/200\n",
      "363/363 [==============================] - 0s 1ms/step - loss: 1.9945 - main_output_loss: 1.8799 - aux_output_loss: 3.0260 - val_loss: 1.9300 - val_main_output_loss: 1.8118 - val_aux_output_loss: 2.9933\n",
      "Epoch 46/200\n",
      "363/363 [==============================] - 0s 1ms/step - loss: 1.9641 - main_output_loss: 1.8481 - aux_output_loss: 3.0080 - val_loss: 1.9000 - val_main_output_loss: 1.7804 - val_aux_output_loss: 2.9758\n",
      "Epoch 47/200\n",
      "363/363 [==============================] - 0s 1ms/step - loss: 1.9349 - main_output_loss: 1.8176 - aux_output_loss: 2.9902 - val_loss: 1.8712 - val_main_output_loss: 1.7503 - val_aux_output_loss: 2.9585\n",
      "Epoch 48/200\n",
      "363/363 [==============================] - 0s 1ms/step - loss: 1.9068 - main_output_loss: 1.7884 - aux_output_loss: 2.9729 - val_loss: 1.8435 - val_main_output_loss: 1.7215 - val_aux_output_loss: 2.9415\n",
      "Epoch 49/200\n",
      "363/363 [==============================] - 0s 1ms/step - loss: 1.8798 - main_output_loss: 1.7603 - aux_output_loss: 2.9559 - val_loss: 1.8169 - val_main_output_loss: 1.6938 - val_aux_output_loss: 2.9248\n",
      "Epoch 50/200\n",
      "363/363 [==============================] - 0s 1ms/step - loss: 1.8539 - main_output_loss: 1.7333 - aux_output_loss: 2.9391 - val_loss: 1.7913 - val_main_output_loss: 1.6672 - val_aux_output_loss: 2.9083\n",
      "Epoch 51/200\n",
      "363/363 [==============================] - 0s 1ms/step - loss: 1.8289 - main_output_loss: 1.7074 - aux_output_loss: 2.9227 - val_loss: 1.7667 - val_main_output_loss: 1.6417 - val_aux_output_loss: 2.8920\n",
      "Epoch 52/200\n",
      "363/363 [==============================] - 0s 1ms/step - loss: 1.8049 - main_output_loss: 1.6825 - aux_output_loss: 2.9062 - val_loss: 1.7431 - val_main_output_loss: 1.6172 - val_aux_output_loss: 2.8760\n",
      "Epoch 53/200\n",
      "363/363 [==============================] - 0s 1ms/step - loss: 1.7818 - main_output_loss: 1.6586 - aux_output_loss: 2.8903 - val_loss: 1.7203 - val_main_output_loss: 1.5937 - val_aux_output_loss: 2.8603\n",
      "Epoch 54/200\n",
      "363/363 [==============================] - 0s 1ms/step - loss: 1.7596 - main_output_loss: 1.6357 - aux_output_loss: 2.8744 - val_loss: 1.6985 - val_main_output_loss: 1.5711 - val_aux_output_loss: 2.8448\n",
      "Epoch 55/200\n",
      "363/363 [==============================] - 0s 1ms/step - loss: 1.7382 - main_output_loss: 1.6137 - aux_output_loss: 2.8588 - val_loss: 1.6774 - val_main_output_loss: 1.5494 - val_aux_output_loss: 2.8295\n",
      "Epoch 56/200\n",
      "363/363 [==============================] - 0s 1ms/step - loss: 1.7176 - main_output_loss: 1.5925 - aux_output_loss: 2.8436 - val_loss: 1.6572 - val_main_output_loss: 1.5286 - val_aux_output_loss: 2.8145\n",
      "Epoch 57/200\n",
      "363/363 [==============================] - 0s 1ms/step - loss: 1.6977 - main_output_loss: 1.5721 - aux_output_loss: 2.8287 - val_loss: 1.6377 - val_main_output_loss: 1.5086 - val_aux_output_loss: 2.7997\n",
      "Epoch 58/200\n",
      "363/363 [==============================] - 0s 1ms/step - loss: 1.6786 - main_output_loss: 1.5525 - aux_output_loss: 2.8137 - val_loss: 1.6190 - val_main_output_loss: 1.4894 - val_aux_output_loss: 2.7851\n",
      "Epoch 59/200\n",
      "363/363 [==============================] - 0s 1ms/step - loss: 1.6601 - main_output_loss: 1.5336 - aux_output_loss: 2.7991 - val_loss: 1.6009 - val_main_output_loss: 1.4709 - val_aux_output_loss: 2.7707\n",
      "Epoch 60/200\n",
      "363/363 [==============================] - 0s 1ms/step - loss: 1.6424 - main_output_loss: 1.5155 - aux_output_loss: 2.7846 - val_loss: 1.5835 - val_main_output_loss: 1.4532 - val_aux_output_loss: 2.7566\n",
      "Epoch 61/200\n",
      "363/363 [==============================] - 0s 1ms/step - loss: 1.6252 - main_output_loss: 1.4980 - aux_output_loss: 2.7705 - val_loss: 1.5668 - val_main_output_loss: 1.4361 - val_aux_output_loss: 2.7427\n",
      "Epoch 62/200\n",
      "363/363 [==============================] - 0s 1ms/step - loss: 1.6087 - main_output_loss: 1.4811 - aux_output_loss: 2.7566 - val_loss: 1.5506 - val_main_output_loss: 1.4197 - val_aux_output_loss: 2.7290\n",
      "Epoch 63/200\n",
      "363/363 [==============================] - 0s 1ms/step - loss: 1.5927 - main_output_loss: 1.4649 - aux_output_loss: 2.7430 - val_loss: 1.5350 - val_main_output_loss: 1.4038 - val_aux_output_loss: 2.7155\n",
      "Epoch 64/200\n",
      "363/363 [==============================] - 0s 1ms/step - loss: 1.5772 - main_output_loss: 1.4492 - aux_output_loss: 2.7295 - val_loss: 1.5200 - val_main_output_loss: 1.3886 - val_aux_output_loss: 2.7023\n",
      "Epoch 65/200\n",
      "363/363 [==============================] - 0s 1ms/step - loss: 1.5623 - main_output_loss: 1.4341 - aux_output_loss: 2.7162 - val_loss: 1.5054 - val_main_output_loss: 1.3739 - val_aux_output_loss: 2.6892\n",
      "Epoch 66/200\n",
      "363/363 [==============================] - 0s 1ms/step - loss: 1.5478 - main_output_loss: 1.4195 - aux_output_loss: 2.7032 - val_loss: 1.4914 - val_main_output_loss: 1.3598 - val_aux_output_loss: 2.6763\n",
      "Epoch 67/200\n",
      "363/363 [==============================] - 0s 1ms/step - loss: 1.5339 - main_output_loss: 1.4054 - aux_output_loss: 2.6903 - val_loss: 1.4779 - val_main_output_loss: 1.3461 - val_aux_output_loss: 2.6636\n",
      "Epoch 68/200\n",
      "363/363 [==============================] - 0s 1ms/step - loss: 1.5204 - main_output_loss: 1.3918 - aux_output_loss: 2.6776 - val_loss: 1.4648 - val_main_output_loss: 1.3330 - val_aux_output_loss: 2.6511\n",
      "Epoch 69/200\n",
      "363/363 [==============================] - 0s 1ms/step - loss: 1.5073 - main_output_loss: 1.3786 - aux_output_loss: 2.6649 - val_loss: 1.4521 - val_main_output_loss: 1.3203 - val_aux_output_loss: 2.6388\n",
      "Epoch 70/200\n",
      "363/363 [==============================] - 0s 1ms/step - loss: 1.4946 - main_output_loss: 1.3659 - aux_output_loss: 2.6526 - val_loss: 1.4399 - val_main_output_loss: 1.3080 - val_aux_output_loss: 2.6267\n",
      "Epoch 71/200\n",
      "363/363 [==============================] - 0s 1ms/step - loss: 1.4823 - main_output_loss: 1.3536 - aux_output_loss: 2.6406 - val_loss: 1.4280 - val_main_output_loss: 1.2962 - val_aux_output_loss: 2.6148\n",
      "Epoch 72/200\n",
      "363/363 [==============================] - 0s 1ms/step - loss: 1.4704 - main_output_loss: 1.3417 - aux_output_loss: 2.6287 - val_loss: 1.4165 - val_main_output_loss: 1.2847 - val_aux_output_loss: 2.6030\n",
      "Epoch 73/200\n",
      "363/363 [==============================] - 0s 1ms/step - loss: 1.4588 - main_output_loss: 1.3301 - aux_output_loss: 2.6170 - val_loss: 1.4054 - val_main_output_loss: 1.2736 - val_aux_output_loss: 2.5914\n",
      "Epoch 74/200\n",
      "363/363 [==============================] - 0s 1ms/step - loss: 1.4476 - main_output_loss: 1.3190 - aux_output_loss: 2.6053 - val_loss: 1.3946 - val_main_output_loss: 1.2629 - val_aux_output_loss: 2.5799\n",
      "Epoch 75/200\n",
      "363/363 [==============================] - 0s 1ms/step - loss: 1.4367 - main_output_loss: 1.3081 - aux_output_loss: 2.5939 - val_loss: 1.3842 - val_main_output_loss: 1.2526 - val_aux_output_loss: 2.5686\n",
      "Epoch 76/200\n",
      "363/363 [==============================] - 0s 1ms/step - loss: 1.4261 - main_output_loss: 1.2977 - aux_output_loss: 2.5823 - val_loss: 1.3740 - val_main_output_loss: 1.2425 - val_aux_output_loss: 2.5575\n",
      "Epoch 77/200\n",
      "363/363 [==============================] - 0s 1ms/step - loss: 1.4159 - main_output_loss: 1.2875 - aux_output_loss: 2.5713 - val_loss: 1.3642 - val_main_output_loss: 1.2328 - val_aux_output_loss: 2.5465\n",
      "Epoch 78/200\n",
      "363/363 [==============================] - 0s 1ms/step - loss: 1.4058 - main_output_loss: 1.2776 - aux_output_loss: 2.5603 - val_loss: 1.3546 - val_main_output_loss: 1.2234 - val_aux_output_loss: 2.5357\n",
      "Epoch 79/200\n",
      "363/363 [==============================] - 0s 1ms/step - loss: 1.3961 - main_output_loss: 1.2680 - aux_output_loss: 2.5494 - val_loss: 1.3453 - val_main_output_loss: 1.2142 - val_aux_output_loss: 2.5251\n",
      "Epoch 80/200\n",
      "363/363 [==============================] - 0s 1ms/step - loss: 1.3867 - main_output_loss: 1.2587 - aux_output_loss: 2.5387 - val_loss: 1.3363 - val_main_output_loss: 1.2054 - val_aux_output_loss: 2.5145\n",
      "Epoch 81/200\n",
      "363/363 [==============================] - 0s 1ms/step - loss: 1.3775 - main_output_loss: 1.2496 - aux_output_loss: 2.5282 - val_loss: 1.3275 - val_main_output_loss: 1.1968 - val_aux_output_loss: 2.5042\n",
      "Epoch 82/200\n",
      "363/363 [==============================] - 0s 1ms/step - loss: 1.3685 - main_output_loss: 1.2408 - aux_output_loss: 2.5178 - val_loss: 1.3190 - val_main_output_loss: 1.1884 - val_aux_output_loss: 2.4939\n",
      "Epoch 83/200\n",
      "363/363 [==============================] - 0s 1ms/step - loss: 1.3597 - main_output_loss: 1.2322 - aux_output_loss: 2.5076 - val_loss: 1.3107 - val_main_output_loss: 1.1803 - val_aux_output_loss: 2.4838\n",
      "Epoch 84/200\n",
      "363/363 [==============================] - 0s 1ms/step - loss: 1.3512 - main_output_loss: 1.2239 - aux_output_loss: 2.4973 - val_loss: 1.3026 - val_main_output_loss: 1.1725 - val_aux_output_loss: 2.4739\n",
      "Epoch 85/200\n",
      "363/363 [==============================] - 0s 1ms/step - loss: 1.3429 - main_output_loss: 1.2157 - aux_output_loss: 2.4874 - val_loss: 1.2947 - val_main_output_loss: 1.1648 - val_aux_output_loss: 2.4641\n",
      "Epoch 86/200\n",
      "363/363 [==============================] - 0s 1ms/step - loss: 1.3348 - main_output_loss: 1.2078 - aux_output_loss: 2.4775 - val_loss: 1.2871 - val_main_output_loss: 1.1574 - val_aux_output_loss: 2.4544\n",
      "Epoch 87/200\n",
      "363/363 [==============================] - 0s 1ms/step - loss: 1.3269 - main_output_loss: 1.2001 - aux_output_loss: 2.4678 - val_loss: 1.2796 - val_main_output_loss: 1.1501 - val_aux_output_loss: 2.4448\n",
      "Epoch 88/200\n",
      "363/363 [==============================] - 0s 1ms/step - loss: 1.3192 - main_output_loss: 1.1926 - aux_output_loss: 2.4581 - val_loss: 1.2723 - val_main_output_loss: 1.1431 - val_aux_output_loss: 2.4353\n",
      "Epoch 89/200\n",
      "363/363 [==============================] - 0s 1ms/step - loss: 1.3117 - main_output_loss: 1.1853 - aux_output_loss: 2.4488 - val_loss: 1.2652 - val_main_output_loss: 1.1363 - val_aux_output_loss: 2.4259\n",
      "Epoch 90/200\n",
      "363/363 [==============================] - 0s 1ms/step - loss: 1.3043 - main_output_loss: 1.1782 - aux_output_loss: 2.4392 - val_loss: 1.2583 - val_main_output_loss: 1.1296 - val_aux_output_loss: 2.4167\n",
      "Epoch 91/200\n",
      "363/363 [==============================] - 0s 1ms/step - loss: 1.2972 - main_output_loss: 1.1713 - aux_output_loss: 2.4299 - val_loss: 1.2515 - val_main_output_loss: 1.1231 - val_aux_output_loss: 2.4076\n",
      "Epoch 92/200\n",
      "363/363 [==============================] - 0s 1ms/step - loss: 1.2901 - main_output_loss: 1.1645 - aux_output_loss: 2.4207 - val_loss: 1.2449 - val_main_output_loss: 1.1167 - val_aux_output_loss: 2.3986\n",
      "Epoch 93/200\n",
      "363/363 [==============================] - 0s 1ms/step - loss: 1.2833 - main_output_loss: 1.1579 - aux_output_loss: 2.4117 - val_loss: 1.2385 - val_main_output_loss: 1.1106 - val_aux_output_loss: 2.3898\n",
      "Epoch 94/200\n",
      "363/363 [==============================] - 0s 1ms/step - loss: 1.2766 - main_output_loss: 1.1515 - aux_output_loss: 2.4027 - val_loss: 1.2322 - val_main_output_loss: 1.1046 - val_aux_output_loss: 2.3810\n",
      "Epoch 95/200\n",
      "363/363 [==============================] - 0s 1ms/step - loss: 1.2701 - main_output_loss: 1.1452 - aux_output_loss: 2.3938 - val_loss: 1.2261 - val_main_output_loss: 1.0987 - val_aux_output_loss: 2.3723\n",
      "Epoch 96/200\n",
      "363/363 [==============================] - 0s 1ms/step - loss: 1.2637 - main_output_loss: 1.1391 - aux_output_loss: 2.3851 - val_loss: 1.2200 - val_main_output_loss: 1.0929 - val_aux_output_loss: 2.3638\n",
      "Epoch 97/200\n",
      "363/363 [==============================] - 0s 1ms/step - loss: 1.2575 - main_output_loss: 1.1331 - aux_output_loss: 2.3765 - val_loss: 1.2141 - val_main_output_loss: 1.0873 - val_aux_output_loss: 2.3553\n",
      "Epoch 98/200\n",
      "363/363 [==============================] - 0s 1ms/step - loss: 1.2513 - main_output_loss: 1.1273 - aux_output_loss: 2.3679 - val_loss: 1.2085 - val_main_output_loss: 1.0820 - val_aux_output_loss: 2.3471\n",
      "Epoch 99/200\n",
      "363/363 [==============================] - 0s 1ms/step - loss: 1.2453 - main_output_loss: 1.1215 - aux_output_loss: 2.3595 - val_loss: 1.2029 - val_main_output_loss: 1.0767 - val_aux_output_loss: 2.3391\n",
      "Epoch 100/200\n",
      "363/363 [==============================] - 0s 1ms/step - loss: 1.2395 - main_output_loss: 1.1159 - aux_output_loss: 2.3513 - val_loss: 1.1975 - val_main_output_loss: 1.0716 - val_aux_output_loss: 2.3311\n",
      "Epoch 101/200\n",
      "363/363 [==============================] - 0s 1ms/step - loss: 1.2337 - main_output_loss: 1.1104 - aux_output_loss: 2.3430 - val_loss: 1.1922 - val_main_output_loss: 1.0665 - val_aux_output_loss: 2.3232\n",
      "Epoch 102/200\n",
      "363/363 [==============================] - 0s 1ms/step - loss: 1.2280 - main_output_loss: 1.1051 - aux_output_loss: 2.3347 - val_loss: 1.1870 - val_main_output_loss: 1.0616 - val_aux_output_loss: 2.3154\n",
      "Epoch 103/200\n",
      "363/363 [==============================] - 0s 1ms/step - loss: 1.2225 - main_output_loss: 1.0998 - aux_output_loss: 2.3267 - val_loss: 1.1819 - val_main_output_loss: 1.0568 - val_aux_output_loss: 2.3077\n",
      "Epoch 104/200\n",
      "363/363 [==============================] - 0s 1ms/step - loss: 1.2170 - main_output_loss: 1.0946 - aux_output_loss: 2.3187 - val_loss: 1.1768 - val_main_output_loss: 1.0520 - val_aux_output_loss: 2.3001\n",
      "Epoch 105/200\n",
      "363/363 [==============================] - 1s 1ms/step - loss: 1.2117 - main_output_loss: 1.0896 - aux_output_loss: 2.3108 - val_loss: 1.1719 - val_main_output_loss: 1.0474 - val_aux_output_loss: 2.2926\n",
      "Epoch 106/200\n",
      "363/363 [==============================] - 0s 1ms/step - loss: 1.2065 - main_output_loss: 1.0846 - aux_output_loss: 2.3031 - val_loss: 1.1670 - val_main_output_loss: 1.0428 - val_aux_output_loss: 2.2852\n",
      "Epoch 107/200\n",
      "363/363 [==============================] - 1s 1ms/step - loss: 1.2013 - main_output_loss: 1.0797 - aux_output_loss: 2.2954 - val_loss: 1.1623 - val_main_output_loss: 1.0383 - val_aux_output_loss: 2.2778\n",
      "Epoch 108/200\n",
      "363/363 [==============================] - 0s 1ms/step - loss: 1.1963 - main_output_loss: 1.0750 - aux_output_loss: 2.2877 - val_loss: 1.1576 - val_main_output_loss: 1.0339 - val_aux_output_loss: 2.2705\n",
      "Epoch 109/200\n",
      "363/363 [==============================] - 0s 1ms/step - loss: 1.1913 - main_output_loss: 1.0703 - aux_output_loss: 2.2803 - val_loss: 1.1530 - val_main_output_loss: 1.0296 - val_aux_output_loss: 2.2633\n",
      "Epoch 110/200\n",
      "363/363 [==============================] - 0s 1ms/step - loss: 1.1864 - main_output_loss: 1.0657 - aux_output_loss: 2.2728 - val_loss: 1.1485 - val_main_output_loss: 1.0254 - val_aux_output_loss: 2.2562\n",
      "Epoch 111/200\n",
      "363/363 [==============================] - 0s 1ms/step - loss: 1.1816 - main_output_loss: 1.0612 - aux_output_loss: 2.2654 - val_loss: 1.1440 - val_main_output_loss: 1.0212 - val_aux_output_loss: 2.2492\n",
      "Epoch 112/200\n",
      "363/363 [==============================] - 0s 1ms/step - loss: 1.1769 - main_output_loss: 1.0567 - aux_output_loss: 2.2582 - val_loss: 1.1396 - val_main_output_loss: 1.0171 - val_aux_output_loss: 2.2422\n",
      "Epoch 113/200\n",
      "363/363 [==============================] - 0s 1ms/step - loss: 1.1722 - main_output_loss: 1.0524 - aux_output_loss: 2.2510 - val_loss: 1.1353 - val_main_output_loss: 1.0131 - val_aux_output_loss: 2.2354\n",
      "Epoch 114/200\n",
      "363/363 [==============================] - 0s 1ms/step - loss: 1.1677 - main_output_loss: 1.0481 - aux_output_loss: 2.2438 - val_loss: 1.1311 - val_main_output_loss: 1.0092 - val_aux_output_loss: 2.2285\n",
      "Epoch 115/200\n",
      "363/363 [==============================] - 0s 1ms/step - loss: 1.1632 - main_output_loss: 1.0439 - aux_output_loss: 2.2368 - val_loss: 1.1269 - val_main_output_loss: 1.0053 - val_aux_output_loss: 2.2218\n",
      "Epoch 116/200\n",
      "363/363 [==============================] - 0s 1ms/step - loss: 1.1588 - main_output_loss: 1.0398 - aux_output_loss: 2.2298 - val_loss: 1.1228 - val_main_output_loss: 1.0015 - val_aux_output_loss: 2.2151\n",
      "Epoch 117/200\n",
      "363/363 [==============================] - 0s 1ms/step - loss: 1.1545 - main_output_loss: 1.0358 - aux_output_loss: 2.2229 - val_loss: 1.1188 - val_main_output_loss: 0.9977 - val_aux_output_loss: 2.2085\n",
      "Epoch 118/200\n",
      "363/363 [==============================] - 0s 1ms/step - loss: 1.1502 - main_output_loss: 1.0318 - aux_output_loss: 2.2160 - val_loss: 1.1148 - val_main_output_loss: 0.9940 - val_aux_output_loss: 2.2019\n",
      "Epoch 119/200\n",
      "363/363 [==============================] - 0s 1ms/step - loss: 1.1461 - main_output_loss: 1.0280 - aux_output_loss: 2.2092 - val_loss: 1.1109 - val_main_output_loss: 0.9904 - val_aux_output_loss: 2.1954\n",
      "Epoch 120/200\n",
      "363/363 [==============================] - 0s 1ms/step - loss: 1.1420 - main_output_loss: 1.0242 - aux_output_loss: 2.2025 - val_loss: 1.1070 - val_main_output_loss: 0.9868 - val_aux_output_loss: 2.1889\n",
      "Epoch 121/200\n",
      "363/363 [==============================] - 0s 1ms/step - loss: 1.1380 - main_output_loss: 1.0204 - aux_output_loss: 2.1960 - val_loss: 1.1032 - val_main_output_loss: 0.9833 - val_aux_output_loss: 2.1825\n",
      "Epoch 122/200\n",
      "363/363 [==============================] - 0s 1ms/step - loss: 1.1340 - main_output_loss: 1.0168 - aux_output_loss: 2.1894 - val_loss: 1.0994 - val_main_output_loss: 0.9798 - val_aux_output_loss: 2.1762\n",
      "Epoch 123/200\n",
      "363/363 [==============================] - 0s 1ms/step - loss: 1.1301 - main_output_loss: 1.0131 - aux_output_loss: 2.1830 - val_loss: 1.0957 - val_main_output_loss: 0.9764 - val_aux_output_loss: 2.1700\n",
      "Epoch 124/200\n",
      "363/363 [==============================] - 0s 1ms/step - loss: 1.1263 - main_output_loss: 1.0096 - aux_output_loss: 2.1765 - val_loss: 1.0921 - val_main_output_loss: 0.9730 - val_aux_output_loss: 2.1638\n",
      "Epoch 125/200\n",
      "363/363 [==============================] - 0s 1ms/step - loss: 1.1225 - main_output_loss: 1.0061 - aux_output_loss: 2.1702 - val_loss: 1.0885 - val_main_output_loss: 0.9697 - val_aux_output_loss: 2.1577\n",
      "Epoch 126/200\n",
      "363/363 [==============================] - 0s 1ms/step - loss: 1.1187 - main_output_loss: 1.0026 - aux_output_loss: 2.1639 - val_loss: 1.0849 - val_main_output_loss: 0.9664 - val_aux_output_loss: 2.1516\n",
      "Epoch 127/200\n",
      "363/363 [==============================] - 0s 1ms/step - loss: 1.1150 - main_output_loss: 0.9992 - aux_output_loss: 2.1577 - val_loss: 1.0814 - val_main_output_loss: 0.9631 - val_aux_output_loss: 2.1456\n",
      "Epoch 128/200\n",
      "363/363 [==============================] - 0s 1ms/step - loss: 1.1114 - main_output_loss: 0.9958 - aux_output_loss: 2.1515 - val_loss: 1.0779 - val_main_output_loss: 0.9600 - val_aux_output_loss: 2.1397\n",
      "Epoch 129/200\n",
      "363/363 [==============================] - 0s 1ms/step - loss: 1.1078 - main_output_loss: 0.9925 - aux_output_loss: 2.1454 - val_loss: 1.0745 - val_main_output_loss: 0.9568 - val_aux_output_loss: 2.1338\n",
      "Epoch 130/200\n",
      "363/363 [==============================] - 0s 1ms/step - loss: 1.1043 - main_output_loss: 0.9892 - aux_output_loss: 2.1394 - val_loss: 1.0712 - val_main_output_loss: 0.9537 - val_aux_output_loss: 2.1280\n",
      "Epoch 131/200\n",
      "363/363 [==============================] - 0s 1ms/step - loss: 1.1008 - main_output_loss: 0.9860 - aux_output_loss: 2.1335 - val_loss: 1.0678 - val_main_output_loss: 0.9507 - val_aux_output_loss: 2.1222\n",
      "Epoch 132/200\n",
      "363/363 [==============================] - 0s 1ms/step - loss: 1.0973 - main_output_loss: 0.9829 - aux_output_loss: 2.1276 - val_loss: 1.0645 - val_main_output_loss: 0.9477 - val_aux_output_loss: 2.1165\n",
      "Epoch 133/200\n",
      "363/363 [==============================] - 0s 1ms/step - loss: 1.0939 - main_output_loss: 0.9797 - aux_output_loss: 2.1217 - val_loss: 1.0613 - val_main_output_loss: 0.9447 - val_aux_output_loss: 2.1109\n",
      "Epoch 134/200\n",
      "363/363 [==============================] - 0s 1ms/step - loss: 1.0906 - main_output_loss: 0.9766 - aux_output_loss: 2.1159 - val_loss: 1.0581 - val_main_output_loss: 0.9418 - val_aux_output_loss: 2.1053\n",
      "Epoch 135/200\n",
      "363/363 [==============================] - 0s 1ms/step - loss: 1.0872 - main_output_loss: 0.9736 - aux_output_loss: 2.1101 - val_loss: 1.0549 - val_main_output_loss: 0.9389 - val_aux_output_loss: 2.0997\n",
      "Epoch 136/200\n",
      "363/363 [==============================] - 0s 1ms/step - loss: 1.0840 - main_output_loss: 0.9706 - aux_output_loss: 2.1046 - val_loss: 1.0518 - val_main_output_loss: 0.9360 - val_aux_output_loss: 2.0942\n",
      "Epoch 137/200\n",
      "363/363 [==============================] - 0s 1ms/step - loss: 1.0807 - main_output_loss: 0.9676 - aux_output_loss: 2.0989 - val_loss: 1.0487 - val_main_output_loss: 0.9332 - val_aux_output_loss: 2.0888\n",
      "Epoch 138/200\n",
      "363/363 [==============================] - 0s 1ms/step - loss: 1.0776 - main_output_loss: 0.9647 - aux_output_loss: 2.0932 - val_loss: 1.0457 - val_main_output_loss: 0.9304 - val_aux_output_loss: 2.0834\n",
      "Epoch 139/200\n",
      "363/363 [==============================] - 0s 1ms/step - loss: 1.0744 - main_output_loss: 0.9618 - aux_output_loss: 2.0878 - val_loss: 1.0427 - val_main_output_loss: 0.9276 - val_aux_output_loss: 2.0781\n",
      "Epoch 140/200\n",
      "363/363 [==============================] - 0s 1ms/step - loss: 1.0713 - main_output_loss: 0.9589 - aux_output_loss: 2.0824 - val_loss: 1.0397 - val_main_output_loss: 0.9249 - val_aux_output_loss: 2.0728\n",
      "Epoch 141/200\n",
      "363/363 [==============================] - 0s 1ms/step - loss: 1.0682 - main_output_loss: 0.9561 - aux_output_loss: 2.0770 - val_loss: 1.0368 - val_main_output_loss: 0.9222 - val_aux_output_loss: 2.0675\n",
      "Epoch 142/200\n",
      "363/363 [==============================] - 0s 1ms/step - loss: 1.0652 - main_output_loss: 0.9534 - aux_output_loss: 2.0716 - val_loss: 1.0339 - val_main_output_loss: 0.9196 - val_aux_output_loss: 2.0623\n",
      "Epoch 143/200\n",
      "363/363 [==============================] - 0s 1ms/step - loss: 1.0622 - main_output_loss: 0.9506 - aux_output_loss: 2.0662 - val_loss: 1.0310 - val_main_output_loss: 0.9170 - val_aux_output_loss: 2.0572\n",
      "Epoch 144/200\n",
      "363/363 [==============================] - 0s 1ms/step - loss: 1.0592 - main_output_loss: 0.9479 - aux_output_loss: 2.0610 - val_loss: 1.0282 - val_main_output_loss: 0.9144 - val_aux_output_loss: 2.0521\n",
      "Epoch 145/200\n",
      "363/363 [==============================] - 0s 1ms/step - loss: 1.0563 - main_output_loss: 0.9453 - aux_output_loss: 2.0557 - val_loss: 1.0254 - val_main_output_loss: 0.9118 - val_aux_output_loss: 2.0471\n",
      "Epoch 146/200\n",
      "363/363 [==============================] - 0s 1ms/step - loss: 1.0534 - main_output_loss: 0.9426 - aux_output_loss: 2.0506 - val_loss: 1.0226 - val_main_output_loss: 0.9093 - val_aux_output_loss: 2.0421\n",
      "Epoch 147/200\n",
      "363/363 [==============================] - 0s 1ms/step - loss: 1.0506 - main_output_loss: 0.9400 - aux_output_loss: 2.0454 - val_loss: 1.0198 - val_main_output_loss: 0.9068 - val_aux_output_loss: 2.0371\n",
      "Epoch 148/200\n",
      "363/363 [==============================] - 0s 1ms/step - loss: 1.0478 - main_output_loss: 0.9375 - aux_output_loss: 2.0403 - val_loss: 1.0171 - val_main_output_loss: 0.9043 - val_aux_output_loss: 2.0322\n",
      "Epoch 149/200\n",
      "363/363 [==============================] - 0s 1ms/step - loss: 1.0450 - main_output_loss: 0.9349 - aux_output_loss: 2.0353 - val_loss: 1.0144 - val_main_output_loss: 0.9019 - val_aux_output_loss: 2.0274\n",
      "Epoch 150/200\n",
      "363/363 [==============================] - 0s 1ms/step - loss: 1.0422 - main_output_loss: 0.9324 - aux_output_loss: 2.0303 - val_loss: 1.0118 - val_main_output_loss: 0.8995 - val_aux_output_loss: 2.0226\n",
      "Epoch 151/200\n",
      "363/363 [==============================] - 0s 1ms/step - loss: 1.0395 - main_output_loss: 0.9300 - aux_output_loss: 2.0253 - val_loss: 1.0092 - val_main_output_loss: 0.8971 - val_aux_output_loss: 2.0178\n",
      "Epoch 152/200\n",
      "363/363 [==============================] - 0s 1ms/step - loss: 1.0368 - main_output_loss: 0.9275 - aux_output_loss: 2.0204 - val_loss: 1.0066 - val_main_output_loss: 0.8947 - val_aux_output_loss: 2.0131\n",
      "Epoch 153/200\n",
      "363/363 [==============================] - 0s 1ms/step - loss: 1.0342 - main_output_loss: 0.9251 - aux_output_loss: 2.0156 - val_loss: 1.0040 - val_main_output_loss: 0.8924 - val_aux_output_loss: 2.0084\n",
      "Epoch 154/200\n",
      "363/363 [==============================] - 0s 1ms/step - loss: 1.0315 - main_output_loss: 0.9227 - aux_output_loss: 2.0107 - val_loss: 1.0015 - val_main_output_loss: 0.8901 - val_aux_output_loss: 2.0037\n",
      "Epoch 155/200\n",
      "363/363 [==============================] - 0s 1ms/step - loss: 1.0289 - main_output_loss: 0.9204 - aux_output_loss: 2.0060 - val_loss: 0.9990 - val_main_output_loss: 0.8878 - val_aux_output_loss: 1.9991\n",
      "Epoch 156/200\n",
      "363/363 [==============================] - 0s 1ms/step - loss: 1.0263 - main_output_loss: 0.9180 - aux_output_loss: 2.0012 - val_loss: 0.9965 - val_main_output_loss: 0.8856 - val_aux_output_loss: 1.9946\n",
      "Epoch 157/200\n",
      "363/363 [==============================] - 0s 1ms/step - loss: 1.0238 - main_output_loss: 0.9157 - aux_output_loss: 1.9966 - val_loss: 0.9940 - val_main_output_loss: 0.8834 - val_aux_output_loss: 1.9900\n",
      "Epoch 158/200\n",
      "363/363 [==============================] - 0s 1ms/step - loss: 1.0213 - main_output_loss: 0.9134 - aux_output_loss: 1.9920 - val_loss: 0.9916 - val_main_output_loss: 0.8811 - val_aux_output_loss: 1.9856\n",
      "Epoch 159/200\n",
      "363/363 [==============================] - 0s 1ms/step - loss: 1.0188 - main_output_loss: 0.9112 - aux_output_loss: 1.9874 - val_loss: 0.9892 - val_main_output_loss: 0.8790 - val_aux_output_loss: 1.9811\n",
      "Epoch 160/200\n",
      "363/363 [==============================] - 0s 1ms/step - loss: 1.0163 - main_output_loss: 0.9090 - aux_output_loss: 1.9828 - val_loss: 0.9868 - val_main_output_loss: 0.8768 - val_aux_output_loss: 1.9767\n",
      "Epoch 161/200\n",
      "363/363 [==============================] - 0s 1ms/step - loss: 1.0139 - main_output_loss: 0.9068 - aux_output_loss: 1.9782 - val_loss: 0.9844 - val_main_output_loss: 0.8747 - val_aux_output_loss: 1.9723\n",
      "Epoch 162/200\n",
      "363/363 [==============================] - 0s 1ms/step - loss: 1.0115 - main_output_loss: 0.9046 - aux_output_loss: 1.9737 - val_loss: 0.9821 - val_main_output_loss: 0.8726 - val_aux_output_loss: 1.9680\n",
      "Epoch 163/200\n",
      "363/363 [==============================] - 0s 1ms/step - loss: 1.0091 - main_output_loss: 0.9024 - aux_output_loss: 1.9693 - val_loss: 0.9798 - val_main_output_loss: 0.8705 - val_aux_output_loss: 1.9637\n",
      "Epoch 164/200\n",
      "363/363 [==============================] - 0s 1ms/step - loss: 1.0068 - main_output_loss: 0.9003 - aux_output_loss: 1.9650 - val_loss: 0.9775 - val_main_output_loss: 0.8684 - val_aux_output_loss: 1.9594\n",
      "Epoch 165/200\n",
      "363/363 [==============================] - 0s 1ms/step - loss: 1.0044 - main_output_loss: 0.8982 - aux_output_loss: 1.9606 - val_loss: 0.9752 - val_main_output_loss: 0.8663 - val_aux_output_loss: 1.9552\n",
      "Epoch 166/200\n",
      "363/363 [==============================] - 0s 1ms/step - loss: 1.0021 - main_output_loss: 0.8961 - aux_output_loss: 1.9563 - val_loss: 0.9730 - val_main_output_loss: 0.8643 - val_aux_output_loss: 1.9510\n",
      "Epoch 167/200\n",
      "363/363 [==============================] - 0s 1ms/step - loss: 0.9998 - main_output_loss: 0.8940 - aux_output_loss: 1.9520 - val_loss: 0.9708 - val_main_output_loss: 0.8623 - val_aux_output_loss: 1.9469\n",
      "Epoch 168/200\n",
      "363/363 [==============================] - 1s 1ms/step - loss: 0.9976 - main_output_loss: 0.8920 - aux_output_loss: 1.9477 - val_loss: 0.9686 - val_main_output_loss: 0.8603 - val_aux_output_loss: 1.9427\n",
      "Epoch 169/200\n",
      "363/363 [==============================] - 0s 1ms/step - loss: 0.9953 - main_output_loss: 0.8900 - aux_output_loss: 1.9435 - val_loss: 0.9664 - val_main_output_loss: 0.8584 - val_aux_output_loss: 1.9386\n",
      "Epoch 170/200\n",
      "363/363 [==============================] - 0s 1ms/step - loss: 0.9931 - main_output_loss: 0.8880 - aux_output_loss: 1.9393 - val_loss: 0.9642 - val_main_output_loss: 0.8564 - val_aux_output_loss: 1.9346\n",
      "Epoch 171/200\n",
      "363/363 [==============================] - 0s 1ms/step - loss: 0.9909 - main_output_loss: 0.8860 - aux_output_loss: 1.9352 - val_loss: 0.9621 - val_main_output_loss: 0.8545 - val_aux_output_loss: 1.9305\n",
      "Epoch 172/200\n",
      "363/363 [==============================] - 0s 1ms/step - loss: 0.9887 - main_output_loss: 0.8840 - aux_output_loss: 1.9311 - val_loss: 0.9600 - val_main_output_loss: 0.8526 - val_aux_output_loss: 1.9265\n",
      "Epoch 173/200\n",
      "363/363 [==============================] - 0s 1ms/step - loss: 0.9866 - main_output_loss: 0.8821 - aux_output_loss: 1.9270 - val_loss: 0.9579 - val_main_output_loss: 0.8507 - val_aux_output_loss: 1.9226\n",
      "Epoch 174/200\n",
      "363/363 [==============================] - 0s 1ms/step - loss: 0.9845 - main_output_loss: 0.8802 - aux_output_loss: 1.9229 - val_loss: 0.9558 - val_main_output_loss: 0.8488 - val_aux_output_loss: 1.9186\n",
      "Epoch 175/200\n",
      "363/363 [==============================] - 0s 1ms/step - loss: 0.9823 - main_output_loss: 0.8783 - aux_output_loss: 1.9189 - val_loss: 0.9537 - val_main_output_loss: 0.8470 - val_aux_output_loss: 1.9147\n",
      "Epoch 176/200\n",
      "363/363 [==============================] - 0s 1ms/step - loss: 0.9803 - main_output_loss: 0.8764 - aux_output_loss: 1.9149 - val_loss: 0.9517 - val_main_output_loss: 0.8451 - val_aux_output_loss: 1.9108\n",
      "Epoch 177/200\n",
      "363/363 [==============================] - 0s 1ms/step - loss: 0.9782 - main_output_loss: 0.8746 - aux_output_loss: 1.9110 - val_loss: 0.9497 - val_main_output_loss: 0.8433 - val_aux_output_loss: 1.9070\n",
      "Epoch 178/200\n",
      "363/363 [==============================] - 0s 1ms/step - loss: 0.9761 - main_output_loss: 0.8727 - aux_output_loss: 1.9071 - val_loss: 0.9477 - val_main_output_loss: 0.8415 - val_aux_output_loss: 1.9032\n",
      "Epoch 179/200\n",
      "363/363 [==============================] - 0s 1ms/step - loss: 0.9741 - main_output_loss: 0.8709 - aux_output_loss: 1.9033 - val_loss: 0.9457 - val_main_output_loss: 0.8397 - val_aux_output_loss: 1.8994\n",
      "Epoch 180/200\n",
      "363/363 [==============================] - 0s 1ms/step - loss: 0.9721 - main_output_loss: 0.8691 - aux_output_loss: 1.8993 - val_loss: 0.9437 - val_main_output_loss: 0.8380 - val_aux_output_loss: 1.8957\n",
      "Epoch 181/200\n",
      "363/363 [==============================] - 0s 1ms/step - loss: 0.9701 - main_output_loss: 0.8673 - aux_output_loss: 1.8955 - val_loss: 0.9418 - val_main_output_loss: 0.8362 - val_aux_output_loss: 1.8919\n",
      "Epoch 182/200\n",
      "363/363 [==============================] - 0s 1ms/step - loss: 0.9681 - main_output_loss: 0.8655 - aux_output_loss: 1.8917 - val_loss: 0.9399 - val_main_output_loss: 0.8345 - val_aux_output_loss: 1.8882\n",
      "Epoch 183/200\n",
      "363/363 [==============================] - 0s 1ms/step - loss: 0.9662 - main_output_loss: 0.8638 - aux_output_loss: 1.8880 - val_loss: 0.9379 - val_main_output_loss: 0.8328 - val_aux_output_loss: 1.8846\n",
      "Epoch 184/200\n",
      "363/363 [==============================] - 0s 1ms/step - loss: 0.9643 - main_output_loss: 0.8620 - aux_output_loss: 1.8843 - val_loss: 0.9361 - val_main_output_loss: 0.8311 - val_aux_output_loss: 1.8810\n",
      "Epoch 185/200\n",
      "363/363 [==============================] - 0s 1ms/step - loss: 0.9624 - main_output_loss: 0.8603 - aux_output_loss: 1.8806 - val_loss: 0.9342 - val_main_output_loss: 0.8294 - val_aux_output_loss: 1.8773\n",
      "Epoch 186/200\n",
      "363/363 [==============================] - 0s 1ms/step - loss: 0.9605 - main_output_loss: 0.8586 - aux_output_loss: 1.8769 - val_loss: 0.9323 - val_main_output_loss: 0.8277 - val_aux_output_loss: 1.8738\n",
      "Epoch 187/200\n",
      "363/363 [==============================] - 0s 1ms/step - loss: 0.9586 - main_output_loss: 0.8569 - aux_output_loss: 1.8733 - val_loss: 0.9305 - val_main_output_loss: 0.8261 - val_aux_output_loss: 1.8702\n",
      "Epoch 188/200\n",
      "363/363 [==============================] - 0s 1ms/step - loss: 0.9567 - main_output_loss: 0.8553 - aux_output_loss: 1.8697 - val_loss: 0.9286 - val_main_output_loss: 0.8244 - val_aux_output_loss: 1.8667\n",
      "Epoch 189/200\n",
      "363/363 [==============================] - 0s 1ms/step - loss: 0.9549 - main_output_loss: 0.8536 - aux_output_loss: 1.8661 - val_loss: 0.9268 - val_main_output_loss: 0.8228 - val_aux_output_loss: 1.8632\n",
      "Epoch 190/200\n",
      "363/363 [==============================] - 0s 1ms/step - loss: 0.9530 - main_output_loss: 0.8520 - aux_output_loss: 1.8625 - val_loss: 0.9250 - val_main_output_loss: 0.8212 - val_aux_output_loss: 1.8597\n",
      "Epoch 191/200\n",
      "363/363 [==============================] - 0s 1ms/step - loss: 0.9512 - main_output_loss: 0.8504 - aux_output_loss: 1.8590 - val_loss: 0.9233 - val_main_output_loss: 0.8196 - val_aux_output_loss: 1.8563\n",
      "Epoch 192/200\n",
      "363/363 [==============================] - 0s 1ms/step - loss: 0.9494 - main_output_loss: 0.8487 - aux_output_loss: 1.8556 - val_loss: 0.9215 - val_main_output_loss: 0.8180 - val_aux_output_loss: 1.8529\n",
      "Epoch 193/200\n",
      "363/363 [==============================] - 0s 1ms/step - loss: 0.9476 - main_output_loss: 0.8472 - aux_output_loss: 1.8520 - val_loss: 0.9197 - val_main_output_loss: 0.8164 - val_aux_output_loss: 1.8495\n",
      "Epoch 194/200\n",
      "363/363 [==============================] - 0s 1ms/step - loss: 0.9459 - main_output_loss: 0.8456 - aux_output_loss: 1.8486 - val_loss: 0.9180 - val_main_output_loss: 0.8149 - val_aux_output_loss: 1.8461\n",
      "Epoch 195/200\n",
      "363/363 [==============================] - 0s 1ms/step - loss: 0.9441 - main_output_loss: 0.8440 - aux_output_loss: 1.8452 - val_loss: 0.9163 - val_main_output_loss: 0.8133 - val_aux_output_loss: 1.8428\n",
      "Epoch 196/200\n",
      "363/363 [==============================] - 0s 1ms/step - loss: 0.9424 - main_output_loss: 0.8425 - aux_output_loss: 1.8418 - val_loss: 0.9146 - val_main_output_loss: 0.8118 - val_aux_output_loss: 1.8395\n",
      "Epoch 197/200\n",
      "363/363 [==============================] - 0s 1ms/step - loss: 0.9407 - main_output_loss: 0.8409 - aux_output_loss: 1.8385 - val_loss: 0.9129 - val_main_output_loss: 0.8103 - val_aux_output_loss: 1.8362\n",
      "Epoch 198/200\n",
      "363/363 [==============================] - 0s 1ms/step - loss: 0.9390 - main_output_loss: 0.8394 - aux_output_loss: 1.8352 - val_loss: 0.9112 - val_main_output_loss: 0.8088 - val_aux_output_loss: 1.8329\n",
      "Epoch 199/200\n",
      "363/363 [==============================] - 0s 1ms/step - loss: 0.9373 - main_output_loss: 0.8379 - aux_output_loss: 1.8319 - val_loss: 0.9095 - val_main_output_loss: 0.8073 - val_aux_output_loss: 1.8297\n",
      "Epoch 200/200\n",
      "363/363 [==============================] - 0s 1ms/step - loss: 0.9356 - main_output_loss: 0.8364 - aux_output_loss: 1.8285 - val_loss: 0.9079 - val_main_output_loss: 0.8058 - val_aux_output_loss: 1.8265\n"
     ]
    }
   ],
   "source": [
    "run_logdir = get_run_logdir()\n",
    "checkpoint_cb = keras.callbacks.ModelCheckpoint(\"my_keras_model.h5\") # dont need to use , save_best_only=True because restore_best_weights=True \n",
    "early_stopping_cb = keras.callbacks.EarlyStopping(patience=10, restore_best_weights=True)\n",
    "tensorboard_cb = keras.callbacks.TensorBoard(run_logdir)\n",
    "history = model.fit([X_train_A, X_train_B], [y_train, y_train], epochs=200,\n",
    "                    validation_data=([X_valid_A, X_valid_B], [y_valid, y_valid]),\n",
    "                    callbacks=[checkpoint_cb, early_stopping_cb, tensorboard_cb])\n",
    "\n",
    "# run on anaconda prompt: tensorboard --logdir=C:\\Users\\taoufik.elkhiraoui\\PycharmProjects\\tf_handson\\my_logs --port=6006"
   ]
  },
  {
   "cell_type": "code",
   "execution_count": 34,
   "metadata": {},
   "outputs": [
    {
     "data": {
      "image/png": "[encoded data removed]",
      "text/plain": [
       "<Figure size 576x360 with 1 Axes>"
      ]
     },
     "metadata": {
      "needs_background": "light"
     },
     "output_type": "display_data"
    }
   ],
   "source": [
    "pd.DataFrame(history.history).plot(figsize=(8,5))\n",
    "plt.grid(True)\n",
    "plt.gca().set_ylim(0,1)\n",
    "plt.show()"
   ]
  },
  {
   "cell_type": "markdown",
   "metadata": {},
   "source": [
    "## Hyperparams fine tuning: wrappe keras model into a sciktlearn model, and use gridsearch as usual"
   ]
  },
  {
   "cell_type": "code",
   "execution_count": null,
   "metadata": {
    "collapsed": false,
    "jupyter": {
     "outputs_hidden": false
    },
    "pycharm": {
     "name": "#%%\n"
    }
   },
   "outputs": [],
   "source": [
    "def build_model(n_hidden=1, n_neurons=30, learning_rate=3e-3, input_shape=[8]):\n",
    "    model = keras.models.Sequential()\n",
    "    model.add(keras.layers.InputLayer(input_shape=input_shape))\n",
    "    for layer in range(n_hidden):\n",
    "        model.add(keras.layers.Dense(n_neurons, activation=\"relu\"))\n",
    "    model.add(keras.layers.Dense(1))\n",
    "    optimizer = keras.optimizers.SGD(lr=learning_rate)\n",
    "    model.compile(loss=\"mse\", optimizer=optimizer)\n",
    "    return model\n",
    "    "
   ]
  },
  {
   "cell_type": "code",
   "execution_count": null,
   "metadata": {
    "collapsed": false,
    "jupyter": {
     "outputs_hidden": false
    },
    "pycharm": {
     "name": "#%%\n"
    }
   },
   "outputs": [],
   "source": [
    "keras_reg = keras.wrappers.scikit_learn.KerasRegressor(build_model)"
   ]
  },
  {
   "cell_type": "code",
   "execution_count": null,
   "metadata": {
    "collapsed": false,
    "jupyter": {
     "outputs_hidden": false
    },
    "pycharm": {
     "name": "#%%\n"
    }
   },
   "outputs": [],
   "source": [
    "keras_reg.fit(X_train, y_train, epochs=100, validation_data=(X_valid, y_valid), callbacks=[keras.callbacks.EarlyStopping(patience=10, restore_best_weights=True)])"
   ]
  },
  {
   "cell_type": "code",
   "execution_count": null,
   "metadata": {
    "collapsed": false,
    "jupyter": {
     "outputs_hidden": false
    },
    "pycharm": {
     "name": "#%%\n"
    }
   },
   "outputs": [],
   "source": [
    "mse_test = keras_reg.score(X_test, y_test)"
   ]
  },
  {
   "cell_type": "code",
   "execution_count": null,
   "metadata": {
    "collapsed": false,
    "jupyter": {
     "outputs_hidden": false
    },
    "pycharm": {
     "name": "#%%\n"
    }
   },
   "outputs": [],
   "source": [
    "X_new = X_test[:2, :]\n",
    "y_pred = keras_reg.predict(X_new)\n",
    "y_pred"
   ]
  },
  {
   "cell_type": "code",
   "execution_count": null,
   "metadata": {
    "collapsed": false,
    "jupyter": {
     "outputs_hidden": false
    },
    "pycharm": {
     "name": "#%%\n"
    }
   },
   "outputs": [],
   "source": [
    "from scipy.stats import reciprocal\n",
    "from sklearn.model_selection import RandomizedSearchCV\n",
    "\n",
    "param_distribs = {\n",
    "    \"n_hidden\": [0,1,2,3],\n",
    "    \"n_neurons\" : np.arange(1, 100),\n",
    "    \"learning_rate\": reciprocal(3e-4, 3e-2),\n",
    "}"
   ]
  },
  {
   "cell_type": "code",
   "execution_count": null,
   "metadata": {
    "collapsed": false,
    "jupyter": {
     "outputs_hidden": false
    },
    "pycharm": {
     "name": "#%%\n"
    }
   },
   "outputs": [],
   "source": [
    "rnd_search_cv = RandomizedSearchCV(keras_reg, param_distribs, n_iter=2, cv=3) # n_inter: number of parameters samples to try"
   ]
  },
  {
   "cell_type": "code",
   "execution_count": null,
   "metadata": {
    "collapsed": false,
    "jupyter": {
     "outputs_hidden": false
    },
    "pycharm": {
     "name": "#%%\n"
    }
   },
   "outputs": [],
   "source": [
    "rnd_search_cv.fit(X_train, y_train, epochs=100, \n",
    "                  validation_data=(X_valid, y_valid),\n",
    "                  callbacks=[keras.callbacks.EarlyStopping(patience=10)])"
   ]
  },
  {
   "cell_type": "code",
   "execution_count": null,
   "metadata": {
    "collapsed": false,
    "jupyter": {
     "outputs_hidden": false
    },
    "pycharm": {
     "name": "#%%\n"
    }
   },
   "outputs": [],
   "source": [
    "rnd_search_cv.best_params_"
   ]
  },
  {
   "cell_type": "code",
   "execution_count": null,
   "metadata": {
    "collapsed": false,
    "jupyter": {
     "outputs_hidden": false
    },
    "pycharm": {
     "name": "#%%\n"
    }
   },
   "outputs": [],
   "source": [
    "rnd_search_cv.best_score_"
   ]
  },
  {
   "cell_type": "code",
   "execution_count": null,
   "metadata": {
    "collapsed": false,
    "jupyter": {
     "outputs_hidden": false
    },
    "pycharm": {
     "name": "#%%\n"
    }
   },
   "outputs": [],
   "source": [
    "model = rnd_search_cv.estimator.model"
   ]
  },
  {
   "cell_type": "code",
   "execution_count": null,
   "metadata": {
    "collapsed": false,
    "jupyter": {
     "outputs_hidden": false
    },
    "pycharm": {
     "name": "#%%\n"
    }
   },
   "outputs": [],
   "source": [
    "model"
   ]
  },
  {
   "cell_type": "code",
   "execution_count": 12,
   "metadata": {},
   "outputs": [],
   "source": []
  },
  {
   "cell_type": "code",
   "execution_count": 13,
   "metadata": {},
   "outputs": [],
   "source": [
    "keras_reg = keras.wrappers.scikit_learn.KerasRegressor(build_model)"
   ]
  },
  {
   "cell_type": "code",
   "execution_count": 14,
   "metadata": {
    "collapsed": true,
    "jupyter": {
     "outputs_hidden": true
    }
   },
   "outputs": [
    {
     "name": "stdout",
     "output_type": "stream",
     "text": [
      "Epoch 1/100\n",
      "363/363 [==============================] - 1s 1ms/step - loss: 1.3055 - val_loss: 1.1383\n",
      "Epoch 2/100\n",
      "363/363 [==============================] - 0s 1ms/step - loss: 0.7167 - val_loss: 1.0005\n",
      "Epoch 3/100\n",
      "363/363 [==============================] - 0s 1ms/step - loss: 0.5911 - val_loss: 0.5755\n",
      "Epoch 4/100\n",
      "363/363 [==============================] - 0s 1ms/step - loss: 0.5507 - val_loss: 0.5774\n",
      "Epoch 5/100\n",
      "363/363 [==============================] - 0s 937us/step - loss: 0.5257 - val_loss: 0.8025\n",
      "Epoch 6/100\n",
      "363/363 [==============================] - 0s 1ms/step - loss: 0.5077 - val_loss: 0.5058\n",
      "Epoch 7/100\n",
      "363/363 [==============================] - 0s 972us/step - loss: 0.4948 - val_loss: 0.4988\n",
      "Epoch 8/100\n",
      "363/363 [==============================] - 0s 1ms/step - loss: 0.4828 - val_loss: 0.7007\n",
      "Epoch 9/100\n",
      "363/363 [==============================] - 0s 1ms/step - loss: 0.4747 - val_loss: 0.4768\n",
      "Epoch 10/100\n",
      "363/363 [==============================] - 0s 1ms/step - loss: 0.4717 - val_loss: 0.5031\n",
      "Epoch 11/100\n",
      "363/363 [==============================] - 0s 1ms/step - loss: 0.4592 - val_loss: 0.4742\n",
      "Epoch 12/100\n",
      "363/363 [==============================] - 0s 964us/step - loss: 0.4528 - val_loss: 0.4769\n",
      "Epoch 13/100\n",
      "363/363 [==============================] - 0s 950us/step - loss: 0.4477 - val_loss: 0.4736\n",
      "Epoch 14/100\n",
      "363/363 [==============================] - 0s 978us/step - loss: 0.4425 - val_loss: 0.5824\n",
      "Epoch 15/100\n",
      "363/363 [==============================] - 0s 1ms/step - loss: 0.4397 - val_loss: 0.4657\n",
      "Epoch 16/100\n",
      "363/363 [==============================] - 0s 992us/step - loss: 0.4441 - val_loss: 0.5402\n",
      "Epoch 17/100\n",
      "363/363 [==============================] - 0s 1ms/step - loss: 0.4293 - val_loss: 0.4444\n",
      "Epoch 18/100\n",
      "363/363 [==============================] - 0s 1ms/step - loss: 0.4250 - val_loss: 0.4370\n",
      "Epoch 19/100\n",
      "363/363 [==============================] - 0s 1ms/step - loss: 0.4211 - val_loss: 0.4305\n",
      "Epoch 20/100\n",
      "363/363 [==============================] - 0s 1ms/step - loss: 0.4174 - val_loss: 0.4540\n",
      "Epoch 21/100\n",
      "363/363 [==============================] - 0s 1ms/step - loss: 0.4135 - val_loss: 0.4207\n",
      "Epoch 22/100\n",
      "363/363 [==============================] - 0s 1ms/step - loss: 0.4120 - val_loss: 0.4515\n",
      "Epoch 23/100\n",
      "363/363 [==============================] - 0s 1ms/step - loss: 0.4072 - val_loss: 0.4150\n",
      "Epoch 24/100\n",
      "363/363 [==============================] - 0s 1ms/step - loss: 0.4053 - val_loss: 0.4380\n",
      "Epoch 25/100\n",
      "363/363 [==============================] - 0s 1ms/step - loss: 0.4011 - val_loss: 0.4110\n",
      "Epoch 26/100\n",
      "363/363 [==============================] - 0s 909us/step - loss: 0.3984 - val_loss: 0.4506\n",
      "Epoch 27/100\n",
      "363/363 [==============================] - 0s 1ms/step - loss: 0.3959 - val_loss: 0.4311\n",
      "Epoch 28/100\n",
      "363/363 [==============================] - 0s 1ms/step - loss: 0.3932 - val_loss: 0.4494\n",
      "Epoch 29/100\n",
      "363/363 [==============================] - 0s 1ms/step - loss: 0.3917 - val_loss: 0.3971\n",
      "Epoch 30/100\n",
      "363/363 [==============================] - 0s 987us/step - loss: 0.3902 - val_loss: 0.4232\n",
      "Epoch 31/100\n",
      "363/363 [==============================] - 0s 1ms/step - loss: 0.3867 - val_loss: 0.4220\n",
      "Epoch 32/100\n",
      "363/363 [==============================] - 0s 1ms/step - loss: 0.3847 - val_loss: 0.3944\n",
      "Epoch 33/100\n",
      "363/363 [==============================] - 0s 1ms/step - loss: 0.3832 - val_loss: 0.4341\n",
      "Epoch 34/100\n",
      "363/363 [==============================] - 0s 1ms/step - loss: 0.3817 - val_loss: 0.4099\n",
      "Epoch 35/100\n",
      "363/363 [==============================] - 0s 1ms/step - loss: 0.3798 - val_loss: 0.3913\n",
      "Epoch 36/100\n",
      "363/363 [==============================] - 0s 1ms/step - loss: 0.3785 - val_loss: 0.4292\n",
      "Epoch 37/100\n",
      "363/363 [==============================] - 0s 1ms/step - loss: 0.3770 - val_loss: 0.3914\n",
      "Epoch 38/100\n",
      "363/363 [==============================] - 0s 1ms/step - loss: 0.3761 - val_loss: 0.3989\n",
      "Epoch 39/100\n",
      "363/363 [==============================] - 0s 1ms/step - loss: 0.3740 - val_loss: 0.3916\n",
      "Epoch 40/100\n",
      "363/363 [==============================] - 0s 1ms/step - loss: 0.3734 - val_loss: 0.4057\n",
      "Epoch 41/100\n",
      "363/363 [==============================] - 0s 1ms/step - loss: 0.3721 - val_loss: 0.3965\n",
      "Epoch 42/100\n",
      "363/363 [==============================] - 0s 1ms/step - loss: 0.3716 - val_loss: 0.4167\n",
      "Epoch 43/100\n",
      "363/363 [==============================] - 0s 1ms/step - loss: 0.3703 - val_loss: 0.3843\n",
      "Epoch 44/100\n",
      "363/363 [==============================] - 0s 981us/step - loss: 0.3695 - val_loss: 0.4062\n",
      "Epoch 45/100\n",
      "363/363 [==============================] - 0s 1ms/step - loss: 0.3685 - val_loss: 0.3894\n",
      "Epoch 46/100\n",
      "363/363 [==============================] - 0s 978us/step - loss: 0.3679 - val_loss: 0.4118\n",
      "Epoch 47/100\n",
      "363/363 [==============================] - 0s 989us/step - loss: 0.3666 - val_loss: 0.3805\n",
      "Epoch 48/100\n",
      "363/363 [==============================] - 0s 1ms/step - loss: 0.3665 - val_loss: 0.4231\n",
      "Epoch 49/100\n",
      "363/363 [==============================] - 0s 1ms/step - loss: 0.3661 - val_loss: 0.3767\n",
      "Epoch 50/100\n",
      "363/363 [==============================] - 0s 1ms/step - loss: 0.3647 - val_loss: 0.3927\n",
      "Epoch 51/100\n",
      "363/363 [==============================] - 0s 1ms/step - loss: 0.3644 - val_loss: 0.3875\n",
      "Epoch 52/100\n",
      "363/363 [==============================] - 0s 1ms/step - loss: 0.3638 - val_loss: 0.3972\n",
      "Epoch 53/100\n",
      "363/363 [==============================] - 0s 1ms/step - loss: 0.3631 - val_loss: 0.3845\n",
      "Epoch 54/100\n",
      "363/363 [==============================] - 0s 1ms/step - loss: 0.3621 - val_loss: 0.3830\n",
      "Epoch 55/100\n",
      "363/363 [==============================] - 0s 1ms/step - loss: 0.3617 - val_loss: 0.3943\n",
      "Epoch 56/100\n",
      "363/363 [==============================] - 0s 887us/step - loss: 0.3613 - val_loss: 0.3916\n",
      "Epoch 57/100\n",
      "363/363 [==============================] - 0s 1ms/step - loss: 0.3606 - val_loss: 0.3985\n",
      "Epoch 58/100\n",
      "363/363 [==============================] - 0s 1ms/step - loss: 0.3600 - val_loss: 0.3803\n",
      "Epoch 59/100\n",
      "363/363 [==============================] - 0s 1ms/step - loss: 0.3597 - val_loss: 0.3909\n"
     ]
    },
    {
     "data": {
      "text/plain": [
       "<tensorflow.python.keras.callbacks.History at 0x2263c5bb610>"
      ]
     },
     "execution_count": 14,
     "metadata": {},
     "output_type": "execute_result"
    }
   ],
   "source": [
    "keras_reg.fit(X_train, y_train, epochs=100, validation_data=(X_valid, y_valid), callbacks=[keras.callbacks.EarlyStopping(patience=10, restore_best_weights=True)])"
   ]
  },
  {
   "cell_type": "code",
   "execution_count": 15,
   "metadata": {},
   "outputs": [
    {
     "name": "stdout",
     "output_type": "stream",
     "text": [
      "162/162 [==============================] - 0s 698us/step - loss: 0.3686\n"
     ]
    }
   ],
   "source": [
    "mse_test = keras_reg.score(X_test, y_test)"
   ]
  },
  {
   "cell_type": "code",
   "execution_count": 18,
   "metadata": {},
   "outputs": [
    {
     "data": {
      "text/plain": [
       "array([1.7784914, 3.0260742], dtype=float32)"
      ]
     },
     "execution_count": 18,
     "metadata": {},
     "output_type": "execute_result"
    }
   ],
   "source": [
    "X_new = X_test[:2, :]\n",
    "y_pred = keras_reg.predict(X_new)\n",
    "y_pred"
   ]
  },
  {
   "cell_type": "code",
   "execution_count": 46,
   "metadata": {},
   "outputs": [],
   "source": [
    "from scipy.stats import reciprocal\n",
    "from sklearn.model_selection import RandomizedSearchCV\n",
    "\n",
    "param_distribs = {\n",
    "    \"n_hidden\": [0,1,2,3],\n",
    "    \"n_neurons\" : np.arange(1, 100),\n",
    "    \"learning_rate\": reciprocal(3e-4, 3e-2),\n",
    "}"
   ]
  },
  {
   "cell_type": "code",
   "execution_count": 49,
   "metadata": {},
   "outputs": [],
   "source": [
    "rnd_search_cv = RandomizedSearchCV(keras_reg, param_distribs, n_iter=2, cv=3) # n_inter: number of parameters samples to try"
   ]
  },
  {
   "cell_type": "code",
   "execution_count": 50,
   "metadata": {
    "collapsed": true,
    "jupyter": {
     "outputs_hidden": true
    }
   },
   "outputs": [
    {
     "name": "stdout",
     "output_type": "stream",
     "text": [
      "Epoch 1/100\n",
      "242/242 [==============================] - 0s 2ms/step - loss: 1.0512 - val_loss: 0.5588\n",
      "Epoch 2/100\n",
      "242/242 [==============================] - 0s 1ms/step - loss: 0.5353 - val_loss: 1.8379\n",
      "Epoch 3/100\n",
      "242/242 [==============================] - 0s 1ms/step - loss: 0.5097 - val_loss: 4.0797\n",
      "Epoch 4/100\n",
      "242/242 [==============================] - 0s 1ms/step - loss: 0.5046 - val_loss: 6.3689\n",
      "Epoch 5/100\n",
      "242/242 [==============================] - 0s 1ms/step - loss: 0.5006 - val_loss: 7.8913\n",
      "Epoch 6/100\n",
      "242/242 [==============================] - 0s 1ms/step - loss: 0.4989 - val_loss: 9.1181\n",
      "Epoch 7/100\n",
      "242/242 [==============================] - 0s 1ms/step - loss: 0.4970 - val_loss: 10.0871\n",
      "Epoch 8/100\n",
      "242/242 [==============================] - 0s 1ms/step - loss: 0.4992 - val_loss: 11.0097\n",
      "Epoch 9/100\n",
      "242/242 [==============================] - 0s 1ms/step - loss: 0.4992 - val_loss: 10.8695\n",
      "Epoch 10/100\n",
      "242/242 [==============================] - 0s 1ms/step - loss: 0.4968 - val_loss: 11.6776\n",
      "Epoch 11/100\n",
      "242/242 [==============================] - 0s 1ms/step - loss: 0.4995 - val_loss: 11.5149\n",
      "121/121 [==============================] - 0s 703us/step - loss: 2.3294\n",
      "Epoch 1/100\n",
      "242/242 [==============================] - 0s 2ms/step - loss: 1.1299 - val_loss: 135.7665\n",
      "Epoch 2/100\n",
      "242/242 [==============================] - 0s 1ms/step - loss: 87.2730 - val_loss: 4783.0005\n",
      "Epoch 3/100\n",
      "242/242 [==============================] - 0s 1ms/step - loss: 5427.2119 - val_loss: 149826.5000\n",
      "Epoch 4/100\n",
      "242/242 [==============================] - 0s 1ms/step - loss: 155623.8750 - val_loss: 4552549.5000\n",
      "Epoch 5/100\n",
      "242/242 [==============================] - 0s 1ms/step - loss: 235966.1250 - val_loss: 138754832.0000\n",
      "Epoch 6/100\n",
      "242/242 [==============================] - 0s 1ms/step - loss: 30681732.0000 - val_loss: 4280587776.0000\n",
      "Epoch 7/100\n",
      "242/242 [==============================] - 0s 1ms/step - loss: 4635628544.0000 - val_loss: 128037249024.0000\n",
      "Epoch 8/100\n",
      "242/242 [==============================] - 0s 1ms/step - loss: 9236185088.0000 - val_loss: 5624388648960.0000\n",
      "Epoch 9/100\n",
      "242/242 [==============================] - 0s 1ms/step - loss: 1411544252416.0000 - val_loss: 180620252676096.0000\n",
      "Epoch 10/100\n",
      "242/242 [==============================] - 0s 1ms/step - loss: 6602843750400.0000 - val_loss: 5544933238767616.0000\n",
      "Epoch 11/100\n",
      "242/242 [==============================] - 0s 1ms/step - loss: 592701326098432.0000 - val_loss: 169128991708413952.0000\n",
      "121/121 [==============================] - 0s 653us/step - loss: 360925529899008.0000\n",
      "Epoch 1/100\n",
      "242/242 [==============================] - 0s 1ms/step - loss: 1.8380 - val_loss: 116.4796\n",
      "Epoch 2/100\n",
      "242/242 [==============================] - 0s 1ms/step - loss: 89.8762 - val_loss: 3579.8362\n",
      "Epoch 3/100\n",
      "242/242 [==============================] - 0s 1ms/step - loss: 218.2652 - val_loss: 120625.9609\n",
      "Epoch 4/100\n",
      "242/242 [==============================] - 0s 1ms/step - loss: 108148.2812 - val_loss: 3983601.5000\n",
      "Epoch 5/100\n",
      "242/242 [==============================] - 0s 1ms/step - loss: 150187.3906 - val_loss: 177625568.0000\n",
      "Epoch 6/100\n",
      "242/242 [==============================] - 0s 1ms/step - loss: 42316148.0000 - val_loss: 6166318592.0000\n",
      "Epoch 7/100\n",
      "242/242 [==============================] - 0s 1ms/step - loss: 5240697344.0000 - val_loss: 206482620416.0000\n",
      "Epoch 8/100\n",
      "242/242 [==============================] - 0s 1ms/step - loss: 47353937920.0000 - val_loss: 7097254674432.0000\n",
      "Epoch 9/100\n",
      "242/242 [==============================] - 0s 1ms/step - loss: 816018030592.0000 - val_loss: 348851772850176.0000\n",
      "Epoch 10/100\n",
      "242/242 [==============================] - 0s 1ms/step - loss: 210896097902592.0000 - val_loss: 11501535871631360.0000\n",
      "Epoch 11/100\n",
      "242/242 [==============================] - 0s 1ms/step - loss: 6017928860270592.0000 - val_loss: 380321415645102080.0000\n",
      "121/121 [==============================] - 0s 661us/step - loss: 1392006551044096.0000\n",
      "Epoch 1/100\n",
      "242/242 [==============================] - 1s 3ms/step - loss: 3.1815 - val_loss: 2.5334\n",
      "Epoch 2/100\n",
      "242/242 [==============================] - 0s 1ms/step - loss: 1.3530 - val_loss: 2.3644\n",
      "Epoch 3/100\n",
      "242/242 [==============================] - 0s 1ms/step - loss: 0.9436 - val_loss: 2.1822\n",
      "Epoch 4/100\n",
      "242/242 [==============================] - 0s 1ms/step - loss: 0.8233 - val_loss: 1.9705\n",
      "Epoch 5/100\n",
      "242/242 [==============================] - 0s 1ms/step - loss: 0.7680 - val_loss: 1.7642\n",
      "Epoch 6/100\n",
      "242/242 [==============================] - 0s 1ms/step - loss: 0.7352 - val_loss: 1.6003\n",
      "Epoch 7/100\n",
      "242/242 [==============================] - 0s 1ms/step - loss: 0.7116 - val_loss: 1.4779\n",
      "Epoch 8/100\n",
      "242/242 [==============================] - 0s 1ms/step - loss: 0.6929 - val_loss: 1.3475\n",
      "Epoch 9/100\n",
      "242/242 [==============================] - 0s 1ms/step - loss: 0.6767 - val_loss: 1.2439\n",
      "Epoch 10/100\n",
      "242/242 [==============================] - 0s 1ms/step - loss: 0.6617 - val_loss: 1.1314\n",
      "Epoch 11/100\n",
      "242/242 [==============================] - 0s 1ms/step - loss: 0.6484 - val_loss: 1.0526\n",
      "Epoch 12/100\n",
      "242/242 [==============================] - 0s 1ms/step - loss: 0.6355 - val_loss: 0.9820\n",
      "Epoch 13/100\n",
      "242/242 [==============================] - 0s 1ms/step - loss: 0.6234 - val_loss: 0.9123\n",
      "Epoch 14/100\n",
      "242/242 [==============================] - 0s 1ms/step - loss: 0.6118 - val_loss: 0.8513\n",
      "Epoch 15/100\n",
      "242/242 [==============================] - 0s 1ms/step - loss: 0.6009 - val_loss: 0.7899\n",
      "Epoch 16/100\n",
      "242/242 [==============================] - 0s 1ms/step - loss: 0.5907 - val_loss: 0.7443\n",
      "Epoch 17/100\n",
      "242/242 [==============================] - 0s 1ms/step - loss: 0.5809 - val_loss: 0.7024\n",
      "Epoch 18/100\n",
      "242/242 [==============================] - 0s 1ms/step - loss: 0.5716 - val_loss: 0.6636\n",
      "Epoch 19/100\n",
      "242/242 [==============================] - 0s 1ms/step - loss: 0.5628 - val_loss: 0.6307\n",
      "Epoch 20/100\n",
      "242/242 [==============================] - 0s 1ms/step - loss: 0.5545 - val_loss: 0.6057\n",
      "Epoch 21/100\n",
      "242/242 [==============================] - 0s 1ms/step - loss: 0.5465 - val_loss: 0.5832\n",
      "Epoch 22/100\n",
      "242/242 [==============================] - 0s 1ms/step - loss: 0.5389 - val_loss: 0.5639\n",
      "Epoch 23/100\n",
      "242/242 [==============================] - 0s 1ms/step - loss: 0.5316 - val_loss: 0.5473\n",
      "Epoch 24/100\n",
      "242/242 [==============================] - 0s 1ms/step - loss: 0.5247 - val_loss: 0.5379\n",
      "Epoch 25/100\n",
      "242/242 [==============================] - 0s 1ms/step - loss: 0.5182 - val_loss: 0.5296\n",
      "Epoch 26/100\n",
      "242/242 [==============================] - 0s 1ms/step - loss: 0.5119 - val_loss: 0.5240\n",
      "Epoch 27/100\n",
      "242/242 [==============================] - 0s 1ms/step - loss: 0.5059 - val_loss: 0.5215\n",
      "Epoch 28/100\n",
      "242/242 [==============================] - 0s 1ms/step - loss: 0.5003 - val_loss: 0.5220\n",
      "Epoch 29/100\n",
      "242/242 [==============================] - 0s 1ms/step - loss: 0.4950 - val_loss: 0.5250\n",
      "Epoch 30/100\n",
      "242/242 [==============================] - 0s 1ms/step - loss: 0.4899 - val_loss: 0.5300\n",
      "Epoch 31/100\n",
      "242/242 [==============================] - 0s 1ms/step - loss: 0.4850 - val_loss: 0.5369\n",
      "Epoch 32/100\n",
      "242/242 [==============================] - 0s 1ms/step - loss: 0.4806 - val_loss: 0.5460\n",
      "Epoch 33/100\n",
      "242/242 [==============================] - 0s 1ms/step - loss: 0.4760 - val_loss: 0.5541\n",
      "Epoch 34/100\n",
      "242/242 [==============================] - 0s 1ms/step - loss: 0.4720 - val_loss: 0.5637\n",
      "Epoch 35/100\n",
      "242/242 [==============================] - 0s 1ms/step - loss: 0.4682 - val_loss: 0.5738\n",
      "Epoch 36/100\n",
      "242/242 [==============================] - 0s 1ms/step - loss: 0.4644 - val_loss: 0.5824\n",
      "Epoch 37/100\n",
      "242/242 [==============================] - 0s 1ms/step - loss: 0.4608 - val_loss: 0.5919\n",
      "121/121 [==============================] - 0s 736us/step - loss: 0.4794\n",
      "Epoch 1/100\n",
      "242/242 [==============================] - 0s 2ms/step - loss: 3.7065 - val_loss: 2.8216\n",
      "Epoch 2/100\n",
      "242/242 [==============================] - 0s 1ms/step - loss: 1.9221 - val_loss: 2.0632\n",
      "Epoch 3/100\n",
      "242/242 [==============================] - 0s 1ms/step - loss: 1.2889 - val_loss: 1.4910\n",
      "Epoch 4/100\n",
      "242/242 [==============================] - 0s 1ms/step - loss: 0.9747 - val_loss: 1.1387\n",
      "Epoch 5/100\n",
      "242/242 [==============================] - ETA: 0s - loss: 0.844 - 0s 1ms/step - loss: 0.8241 - val_loss: 0.9451\n",
      "Epoch 6/100\n",
      "242/242 [==============================] - 0s 1ms/step - loss: 0.7511 - val_loss: 0.8365\n",
      "Epoch 7/100\n",
      "242/242 [==============================] - 0s 1ms/step - loss: 0.7115 - val_loss: 0.7702\n",
      "Epoch 8/100\n",
      "242/242 [==============================] - 0s 1ms/step - loss: 0.6860 - val_loss: 0.7286\n",
      "Epoch 9/100\n",
      "242/242 [==============================] - 0s 1ms/step - loss: 0.6673 - val_loss: 0.7014\n",
      "Epoch 10/100\n",
      "242/242 [==============================] - 0s 1ms/step - loss: 0.6521 - val_loss: 0.6804\n",
      "Epoch 11/100\n",
      "242/242 [==============================] - 0s 1ms/step - loss: 0.6391 - val_loss: 0.6672\n",
      "Epoch 12/100\n",
      "242/242 [==============================] - 0s 1ms/step - loss: 0.6276 - val_loss: 0.6541\n",
      "Epoch 13/100\n",
      "242/242 [==============================] - 0s 1ms/step - loss: 0.6171 - val_loss: 0.6442\n",
      "Epoch 14/100\n",
      "242/242 [==============================] - 0s 1ms/step - loss: 0.6075 - val_loss: 0.6316\n",
      "Epoch 15/100\n",
      "242/242 [==============================] - 0s 1ms/step - loss: 0.5985 - val_loss: 0.6225\n",
      "Epoch 16/100\n",
      "242/242 [==============================] - 0s 1ms/step - loss: 0.5899 - val_loss: 0.6116\n",
      "Epoch 17/100\n",
      "242/242 [==============================] - 0s 1ms/step - loss: 0.5820 - val_loss: 0.6026\n",
      "Epoch 18/100\n",
      "242/242 [==============================] - 0s 1ms/step - loss: 0.5745 - val_loss: 0.5966\n",
      "Epoch 19/100\n",
      "242/242 [==============================] - 0s 1ms/step - loss: 0.5671 - val_loss: 0.5910\n",
      "Epoch 20/100\n",
      "242/242 [==============================] - 0s 1ms/step - loss: 0.5600 - val_loss: 0.5829\n",
      "Epoch 21/100\n",
      "242/242 [==============================] - 0s 1ms/step - loss: 0.5532 - val_loss: 0.5760\n",
      "Epoch 22/100\n",
      "242/242 [==============================] - 0s 1ms/step - loss: 0.5468 - val_loss: 0.5709\n",
      "Epoch 23/100\n",
      "242/242 [==============================] - 0s 1ms/step - loss: 0.5407 - val_loss: 0.5669\n",
      "Epoch 24/100\n",
      "242/242 [==============================] - 0s 1ms/step - loss: 0.5348 - val_loss: 0.5611\n",
      "Epoch 25/100\n",
      "242/242 [==============================] - 0s 1ms/step - loss: 0.5292 - val_loss: 0.5575\n",
      "Epoch 26/100\n",
      "242/242 [==============================] - 0s 1ms/step - loss: 0.5237 - val_loss: 0.5511\n",
      "Epoch 27/100\n",
      "242/242 [==============================] - 0s 1ms/step - loss: 0.5184 - val_loss: 0.5485\n",
      "Epoch 28/100\n",
      "242/242 [==============================] - 0s 1ms/step - loss: 0.5133 - val_loss: 0.5423\n",
      "Epoch 29/100\n",
      "242/242 [==============================] - 0s 1ms/step - loss: 0.5084 - val_loss: 0.5398\n",
      "Epoch 30/100\n",
      "242/242 [==============================] - 0s 1ms/step - loss: 0.5038 - val_loss: 0.5340\n",
      "Epoch 31/100\n",
      "242/242 [==============================] - 0s 1ms/step - loss: 0.4993 - val_loss: 0.5308\n",
      "Epoch 32/100\n",
      "242/242 [==============================] - 0s 1ms/step - loss: 0.4950 - val_loss: 0.5260\n",
      "Epoch 33/100\n",
      "242/242 [==============================] - 0s 1ms/step - loss: 0.4907 - val_loss: 0.5260\n",
      "Epoch 34/100\n",
      "242/242 [==============================] - 0s 1ms/step - loss: 0.4867 - val_loss: 0.5170\n",
      "Epoch 35/100\n",
      "242/242 [==============================] - 0s 1ms/step - loss: 0.4826 - val_loss: 0.5179\n",
      "Epoch 36/100\n",
      "242/242 [==============================] - 0s 1ms/step - loss: 0.4790 - val_loss: 0.5143\n",
      "Epoch 37/100\n",
      "242/242 [==============================] - 0s 1ms/step - loss: 0.4753 - val_loss: 0.5067\n",
      "Epoch 38/100\n",
      "242/242 [==============================] - 0s 1ms/step - loss: 0.4720 - val_loss: 0.5078\n",
      "Epoch 39/100\n",
      "242/242 [==============================] - 0s 1ms/step - loss: 0.4686 - val_loss: 0.5018\n",
      "Epoch 40/100\n",
      "242/242 [==============================] - 0s 1ms/step - loss: 0.4653 - val_loss: 0.5031\n",
      "Epoch 41/100\n",
      "242/242 [==============================] - 0s 1ms/step - loss: 0.4623 - val_loss: 0.4993\n",
      "Epoch 42/100\n",
      "242/242 [==============================] - 0s 1ms/step - loss: 0.4593 - val_loss: 0.4938\n",
      "Epoch 43/100\n",
      "242/242 [==============================] - 0s 1ms/step - loss: 0.4565 - val_loss: 0.4911\n",
      "Epoch 44/100\n",
      "242/242 [==============================] - 0s 1ms/step - loss: 0.4538 - val_loss: 0.4879\n",
      "Epoch 45/100\n",
      "242/242 [==============================] - 0s 1ms/step - loss: 0.4512 - val_loss: 0.4879\n",
      "Epoch 46/100\n",
      "242/242 [==============================] - 0s 1ms/step - loss: 0.4485 - val_loss: 0.4841\n",
      "Epoch 47/100\n",
      "242/242 [==============================] - 0s 1ms/step - loss: 0.4461 - val_loss: 0.4800\n",
      "Epoch 48/100\n",
      "242/242 [==============================] - 0s 1ms/step - loss: 0.4438 - val_loss: 0.4834\n",
      "Epoch 49/100\n",
      "242/242 [==============================] - 0s 1ms/step - loss: 0.4414 - val_loss: 0.4773\n",
      "Epoch 50/100\n",
      "242/242 [==============================] - 0s 1ms/step - loss: 0.4394 - val_loss: 0.4751\n",
      "Epoch 51/100\n",
      "242/242 [==============================] - 0s 1ms/step - loss: 0.4373 - val_loss: 0.4783\n",
      "Epoch 52/100\n",
      "242/242 [==============================] - 0s 1ms/step - loss: 0.4353 - val_loss: 0.4718\n",
      "Epoch 53/100\n",
      "242/242 [==============================] - 0s 1ms/step - loss: 0.4334 - val_loss: 0.4761\n",
      "Epoch 54/100\n",
      "242/242 [==============================] - 0s 1ms/step - loss: 0.4315 - val_loss: 0.4725\n",
      "Epoch 55/100\n",
      "242/242 [==============================] - 0s 1ms/step - loss: 0.4296 - val_loss: 0.4670\n",
      "Epoch 56/100\n",
      "242/242 [==============================] - 0s 1ms/step - loss: 0.4279 - val_loss: 0.4690\n",
      "Epoch 57/100\n",
      "242/242 [==============================] - 0s 1ms/step - loss: 0.4261 - val_loss: 0.4646\n",
      "Epoch 58/100\n",
      "242/242 [==============================] - 0s 1ms/step - loss: 0.4244 - val_loss: 0.4607\n",
      "Epoch 59/100\n",
      "242/242 [==============================] - 0s 1ms/step - loss: 0.4228 - val_loss: 0.4663\n",
      "Epoch 60/100\n",
      "242/242 [==============================] - 0s 1ms/step - loss: 0.4213 - val_loss: 0.4675\n",
      "Epoch 61/100\n",
      "242/242 [==============================] - 0s 1ms/step - loss: 0.4199 - val_loss: 0.4617\n",
      "Epoch 62/100\n",
      "242/242 [==============================] - 0s 1ms/step - loss: 0.4183 - val_loss: 0.4618\n",
      "Epoch 63/100\n",
      "242/242 [==============================] - 0s 1ms/step - loss: 0.4168 - val_loss: 0.4616\n",
      "Epoch 64/100\n",
      "242/242 [==============================] - 0s 1ms/step - loss: 0.4154 - val_loss: 0.4598\n",
      "Epoch 65/100\n",
      "242/242 [==============================] - 0s 1ms/step - loss: 0.4140 - val_loss: 0.4590\n",
      "Epoch 66/100\n",
      "242/242 [==============================] - 0s 1ms/step - loss: 0.4127 - val_loss: 0.4549\n",
      "Epoch 67/100\n",
      "242/242 [==============================] - 0s 1ms/step - loss: 0.4114 - val_loss: 0.4542\n",
      "Epoch 68/100\n",
      "242/242 [==============================] - 0s 1ms/step - loss: 0.4102 - val_loss: 0.4573\n",
      "Epoch 69/100\n",
      "242/242 [==============================] - 0s 1ms/step - loss: 0.4090 - val_loss: 0.4538\n",
      "Epoch 70/100\n",
      "242/242 [==============================] - 0s 1ms/step - loss: 0.4077 - val_loss: 0.4496\n",
      "Epoch 71/100\n",
      "242/242 [==============================] - 0s 1ms/step - loss: 0.4065 - val_loss: 0.4486\n",
      "Epoch 72/100\n",
      "242/242 [==============================] - 0s 1ms/step - loss: 0.4054 - val_loss: 0.4478\n",
      "Epoch 73/100\n",
      "242/242 [==============================] - 0s 1ms/step - loss: 0.4042 - val_loss: 0.4462\n",
      "Epoch 74/100\n",
      "242/242 [==============================] - 0s 1ms/step - loss: 0.4033 - val_loss: 0.4434\n",
      "Epoch 75/100\n",
      "242/242 [==============================] - 0s 1ms/step - loss: 0.4021 - val_loss: 0.4434\n",
      "Epoch 76/100\n",
      "242/242 [==============================] - 0s 1ms/step - loss: 0.4011 - val_loss: 0.4407\n",
      "Epoch 77/100\n",
      "242/242 [==============================] - 0s 1ms/step - loss: 0.4002 - val_loss: 0.4433\n",
      "Epoch 78/100\n",
      "242/242 [==============================] - 0s 1ms/step - loss: 0.3992 - val_loss: 0.4410\n",
      "Epoch 79/100\n",
      "242/242 [==============================] - 0s 1ms/step - loss: 0.3977 - val_loss: 0.4479\n",
      "Epoch 80/100\n",
      "242/242 [==============================] - 0s 1ms/step - loss: 0.3973 - val_loss: 0.4401\n",
      "Epoch 81/100\n",
      "242/242 [==============================] - 0s 1ms/step - loss: 0.3962 - val_loss: 0.4355\n",
      "Epoch 82/100\n",
      "242/242 [==============================] - 0s 1ms/step - loss: 0.3954 - val_loss: 0.4367\n",
      "Epoch 83/100\n",
      "242/242 [==============================] - 0s 1ms/step - loss: 0.3946 - val_loss: 0.4363\n",
      "Epoch 84/100\n",
      "242/242 [==============================] - 0s 1ms/step - loss: 0.3937 - val_loss: 0.4340\n",
      "Epoch 85/100\n",
      "242/242 [==============================] - 0s 1ms/step - loss: 0.3928 - val_loss: 0.4356\n",
      "Epoch 86/100\n",
      "242/242 [==============================] - 0s 1ms/step - loss: 0.3921 - val_loss: 0.4353\n",
      "Epoch 87/100\n",
      "242/242 [==============================] - 0s 1ms/step - loss: 0.3912 - val_loss: 0.4330\n",
      "Epoch 88/100\n",
      "242/242 [==============================] - 0s 1ms/step - loss: 0.3905 - val_loss: 0.4354\n",
      "Epoch 89/100\n",
      "242/242 [==============================] - 0s 1ms/step - loss: 0.3896 - val_loss: 0.4345\n",
      "Epoch 90/100\n",
      "242/242 [==============================] - 0s 1ms/step - loss: 0.3889 - val_loss: 0.4294\n",
      "Epoch 91/100\n",
      "242/242 [==============================] - 0s 1ms/step - loss: 0.3882 - val_loss: 0.4309\n",
      "Epoch 92/100\n",
      "242/242 [==============================] - 0s 1ms/step - loss: 0.3874 - val_loss: 0.4301\n",
      "Epoch 93/100\n",
      "242/242 [==============================] - 0s 1ms/step - loss: 0.3867 - val_loss: 0.4302\n",
      "Epoch 94/100\n",
      "242/242 [==============================] - 0s 1ms/step - loss: 0.3861 - val_loss: 0.4304\n",
      "Epoch 95/100\n",
      "242/242 [==============================] - 0s 1ms/step - loss: 0.3853 - val_loss: 0.4258\n",
      "Epoch 96/100\n",
      "242/242 [==============================] - 0s 1ms/step - loss: 0.3847 - val_loss: 0.4276\n",
      "Epoch 97/100\n",
      "242/242 [==============================] - 0s 1ms/step - loss: 0.3840 - val_loss: 0.4264\n",
      "Epoch 98/100\n",
      "242/242 [==============================] - 0s 1ms/step - loss: 0.3834 - val_loss: 0.4263\n",
      "Epoch 99/100\n",
      "242/242 [==============================] - 0s 1ms/step - loss: 0.3827 - val_loss: 0.4268\n",
      "Epoch 100/100\n",
      "242/242 [==============================] - 0s 1ms/step - loss: 0.3821 - val_loss: 0.4229\n",
      "121/121 [==============================] - 0s 818us/step - loss: 0.3969\n",
      "Epoch 1/100\n",
      "242/242 [==============================] - 0s 2ms/step - loss: 3.1175 - val_loss: 3.5541\n",
      "Epoch 2/100\n",
      "242/242 [==============================] - 0s 1ms/step - loss: 1.5231 - val_loss: 1.9752\n",
      "Epoch 3/100\n",
      "242/242 [==============================] - 0s 1ms/step - loss: 1.0207 - val_loss: 1.0656\n",
      "Epoch 4/100\n",
      "242/242 [==============================] - 0s 1ms/step - loss: 0.8451 - val_loss: 0.8743\n",
      "Epoch 5/100\n",
      "242/242 [==============================] - 0s 1ms/step - loss: 0.7888 - val_loss: 0.8119\n",
      "Epoch 6/100\n",
      "242/242 [==============================] - 0s 1ms/step - loss: 0.7580 - val_loss: 0.7775\n",
      "Epoch 7/100\n",
      "242/242 [==============================] - 0s 1ms/step - loss: 0.7363 - val_loss: 0.7536\n",
      "Epoch 8/100\n",
      "242/242 [==============================] - 0s 1ms/step - loss: 0.7185 - val_loss: 0.7352\n",
      "Epoch 9/100\n",
      "242/242 [==============================] - 0s 1ms/step - loss: 0.7030 - val_loss: 0.7203\n",
      "Epoch 10/100\n",
      "242/242 [==============================] - 0s 1ms/step - loss: 0.6886 - val_loss: 0.7091\n",
      "Epoch 11/100\n",
      "242/242 [==============================] - 0s 1ms/step - loss: 0.6750 - val_loss: 0.6936\n",
      "Epoch 12/100\n",
      "242/242 [==============================] - 0s 1ms/step - loss: 0.6624 - val_loss: 0.6794\n",
      "Epoch 13/100\n",
      "242/242 [==============================] - 0s 1ms/step - loss: 0.6504 - val_loss: 0.6673\n",
      "Epoch 14/100\n",
      "242/242 [==============================] - 0s 1ms/step - loss: 0.6390 - val_loss: 0.6571\n",
      "Epoch 15/100\n",
      "242/242 [==============================] - 0s 1ms/step - loss: 0.6280 - val_loss: 0.6448\n",
      "Epoch 16/100\n",
      "242/242 [==============================] - 0s 1ms/step - loss: 0.6178 - val_loss: 0.6352\n",
      "Epoch 17/100\n",
      "242/242 [==============================] - 0s 1ms/step - loss: 0.6077 - val_loss: 0.6239\n",
      "Epoch 18/100\n",
      "242/242 [==============================] - 0s 1ms/step - loss: 0.5984 - val_loss: 0.6177\n",
      "Epoch 19/100\n",
      "242/242 [==============================] - 0s 1ms/step - loss: 0.5893 - val_loss: 0.6074\n",
      "Epoch 20/100\n",
      "242/242 [==============================] - 0s 1ms/step - loss: 0.5807 - val_loss: 0.6000\n",
      "Epoch 21/100\n",
      "242/242 [==============================] - 0s 1ms/step - loss: 0.5720 - val_loss: 0.5905\n",
      "Epoch 22/100\n",
      "242/242 [==============================] - 0s 1ms/step - loss: 0.5643 - val_loss: 0.5811\n",
      "Epoch 23/100\n",
      "242/242 [==============================] - 0s 1ms/step - loss: 0.5567 - val_loss: 0.5763\n",
      "Epoch 24/100\n",
      "242/242 [==============================] - 0s 1ms/step - loss: 0.5493 - val_loss: 0.5684\n",
      "Epoch 25/100\n",
      "242/242 [==============================] - 0s 1ms/step - loss: 0.5421 - val_loss: 0.5593\n",
      "Epoch 26/100\n",
      "242/242 [==============================] - 0s 1ms/step - loss: 0.5353 - val_loss: 0.5516\n",
      "Epoch 27/100\n",
      "242/242 [==============================] - 0s 1ms/step - loss: 0.5291 - val_loss: 0.5496\n",
      "Epoch 28/100\n",
      "242/242 [==============================] - 0s 1ms/step - loss: 0.5227 - val_loss: 0.5399\n",
      "Epoch 29/100\n",
      "242/242 [==============================] - 0s 1ms/step - loss: 0.5169 - val_loss: 0.5397\n",
      "Epoch 30/100\n",
      "242/242 [==============================] - 0s 1ms/step - loss: 0.5110 - val_loss: 0.5276\n",
      "Epoch 31/100\n",
      "242/242 [==============================] - 0s 1ms/step - loss: 0.5057 - val_loss: 0.5238\n",
      "Epoch 32/100\n",
      "242/242 [==============================] - 0s 1ms/step - loss: 0.5005 - val_loss: 0.5202\n",
      "Epoch 33/100\n",
      "242/242 [==============================] - 0s 1ms/step - loss: 0.4953 - val_loss: 0.5157\n",
      "Epoch 34/100\n",
      "242/242 [==============================] - 0s 1ms/step - loss: 0.4905 - val_loss: 0.5101\n",
      "Epoch 35/100\n",
      "242/242 [==============================] - 0s 1ms/step - loss: 0.4857 - val_loss: 0.5036\n",
      "Epoch 36/100\n",
      "242/242 [==============================] - 0s 1ms/step - loss: 0.4815 - val_loss: 0.4991\n",
      "Epoch 37/100\n",
      "242/242 [==============================] - 0s 1ms/step - loss: 0.4772 - val_loss: 0.4969\n",
      "Epoch 38/100\n",
      "242/242 [==============================] - 0s 1ms/step - loss: 0.4731 - val_loss: 0.4897\n",
      "Epoch 39/100\n",
      "242/242 [==============================] - 0s 1ms/step - loss: 0.4693 - val_loss: 0.4901\n",
      "Epoch 40/100\n",
      "242/242 [==============================] - 0s 1ms/step - loss: 0.4656 - val_loss: 0.4882\n",
      "Epoch 41/100\n",
      "242/242 [==============================] - 0s 1ms/step - loss: 0.4619 - val_loss: 0.4803\n",
      "Epoch 42/100\n",
      "242/242 [==============================] - 0s 1ms/step - loss: 0.4586 - val_loss: 0.4782\n",
      "Epoch 43/100\n",
      "242/242 [==============================] - 0s 1ms/step - loss: 0.4550 - val_loss: 0.4783\n",
      "Epoch 44/100\n",
      "242/242 [==============================] - 0s 1ms/step - loss: 0.4520 - val_loss: 0.4753\n",
      "Epoch 45/100\n",
      "242/242 [==============================] - 0s 1ms/step - loss: 0.4489 - val_loss: 0.4680\n",
      "Epoch 46/100\n",
      "242/242 [==============================] - 0s 1ms/step - loss: 0.4460 - val_loss: 0.4657\n",
      "Epoch 47/100\n",
      "242/242 [==============================] - 0s 1ms/step - loss: 0.4431 - val_loss: 0.4611\n",
      "Epoch 48/100\n",
      "242/242 [==============================] - 0s 1ms/step - loss: 0.4404 - val_loss: 0.4598\n",
      "Epoch 49/100\n",
      "242/242 [==============================] - 0s 1ms/step - loss: 0.4377 - val_loss: 0.4573\n",
      "Epoch 50/100\n",
      "242/242 [==============================] - 0s 1ms/step - loss: 0.4353 - val_loss: 0.4578\n",
      "Epoch 51/100\n",
      "242/242 [==============================] - 0s 1ms/step - loss: 0.4327 - val_loss: 0.4517\n",
      "Epoch 52/100\n",
      "242/242 [==============================] - 0s 1ms/step - loss: 0.4305 - val_loss: 0.4515\n",
      "Epoch 53/100\n",
      "242/242 [==============================] - 0s 1ms/step - loss: 0.4281 - val_loss: 0.4473\n",
      "Epoch 54/100\n",
      "242/242 [==============================] - 0s 1ms/step - loss: 0.4262 - val_loss: 0.4482\n",
      "Epoch 55/100\n",
      "242/242 [==============================] - 0s 1ms/step - loss: 0.4241 - val_loss: 0.4463\n",
      "Epoch 56/100\n",
      "242/242 [==============================] - 0s 1ms/step - loss: 0.4220 - val_loss: 0.4433\n",
      "Epoch 57/100\n",
      "242/242 [==============================] - 0s 1ms/step - loss: 0.4202 - val_loss: 0.4433\n",
      "Epoch 58/100\n",
      "242/242 [==============================] - 0s 1ms/step - loss: 0.4183 - val_loss: 0.4403\n",
      "Epoch 59/100\n",
      "242/242 [==============================] - 0s 1ms/step - loss: 0.4167 - val_loss: 0.4406\n",
      "Epoch 60/100\n",
      "242/242 [==============================] - 0s 1ms/step - loss: 0.4149 - val_loss: 0.4411\n",
      "Epoch 61/100\n",
      "242/242 [==============================] - 0s 1ms/step - loss: 0.4132 - val_loss: 0.4404\n",
      "Epoch 62/100\n",
      "242/242 [==============================] - 0s 1ms/step - loss: 0.4117 - val_loss: 0.4360\n",
      "Epoch 63/100\n",
      "242/242 [==============================] - 0s 1ms/step - loss: 0.4102 - val_loss: 0.4346\n",
      "Epoch 64/100\n",
      "242/242 [==============================] - 0s 1ms/step - loss: 0.4088 - val_loss: 0.4337\n",
      "Epoch 65/100\n",
      "242/242 [==============================] - 0s 1ms/step - loss: 0.4073 - val_loss: 0.4312\n",
      "Epoch 66/100\n",
      "242/242 [==============================] - 0s 1ms/step - loss: 0.4060 - val_loss: 0.4301\n",
      "Epoch 67/100\n",
      "242/242 [==============================] - 0s 1ms/step - loss: 0.4047 - val_loss: 0.4286\n",
      "Epoch 68/100\n",
      "242/242 [==============================] - 0s 1ms/step - loss: 0.4035 - val_loss: 0.4292\n",
      "Epoch 69/100\n",
      "242/242 [==============================] - 0s 1ms/step - loss: 0.4022 - val_loss: 0.4266\n",
      "Epoch 70/100\n",
      "242/242 [==============================] - 0s 1ms/step - loss: 0.4010 - val_loss: 0.4239\n",
      "Epoch 71/100\n",
      "242/242 [==============================] - 0s 1ms/step - loss: 0.4000 - val_loss: 0.4236\n",
      "Epoch 72/100\n",
      "242/242 [==============================] - 0s 1ms/step - loss: 0.3989 - val_loss: 0.4252\n",
      "Epoch 73/100\n",
      "242/242 [==============================] - 0s 1ms/step - loss: 0.3976 - val_loss: 0.4203\n",
      "Epoch 74/100\n",
      "242/242 [==============================] - 0s 1ms/step - loss: 0.3968 - val_loss: 0.4204\n",
      "Epoch 75/100\n",
      "242/242 [==============================] - 0s 1ms/step - loss: 0.3958 - val_loss: 0.4203\n",
      "Epoch 76/100\n",
      "242/242 [==============================] - 0s 1ms/step - loss: 0.3948 - val_loss: 0.4210\n",
      "Epoch 77/100\n",
      "242/242 [==============================] - 0s 1ms/step - loss: 0.3938 - val_loss: 0.4164\n",
      "Epoch 78/100\n",
      "242/242 [==============================] - 0s 1ms/step - loss: 0.3931 - val_loss: 0.4158\n",
      "Epoch 79/100\n",
      "242/242 [==============================] - 0s 1ms/step - loss: 0.3921 - val_loss: 0.4167\n",
      "Epoch 80/100\n",
      "242/242 [==============================] - 0s 1ms/step - loss: 0.3913 - val_loss: 0.4154\n",
      "Epoch 81/100\n",
      "242/242 [==============================] - 0s 1ms/step - loss: 0.3905 - val_loss: 0.4158\n",
      "Epoch 82/100\n",
      "242/242 [==============================] - 0s 1ms/step - loss: 0.3897 - val_loss: 0.4145\n",
      "Epoch 83/100\n",
      "242/242 [==============================] - 0s 1ms/step - loss: 0.3889 - val_loss: 0.4112\n",
      "Epoch 84/100\n",
      "242/242 [==============================] - 0s 1ms/step - loss: 0.3882 - val_loss: 0.4119\n",
      "Epoch 85/100\n",
      "242/242 [==============================] - 0s 1ms/step - loss: 0.3874 - val_loss: 0.4125\n",
      "Epoch 86/100\n",
      "242/242 [==============================] - 0s 1ms/step - loss: 0.3867 - val_loss: 0.4115\n",
      "Epoch 87/100\n",
      "242/242 [==============================] - 0s 1ms/step - loss: 0.3860 - val_loss: 0.4100\n",
      "Epoch 88/100\n",
      "242/242 [==============================] - 0s 1ms/step - loss: 0.3853 - val_loss: 0.4115\n",
      "Epoch 89/100\n",
      "242/242 [==============================] - 0s 1ms/step - loss: 0.3847 - val_loss: 0.4077\n",
      "Epoch 90/100\n",
      "242/242 [==============================] - 0s 1ms/step - loss: 0.3840 - val_loss: 0.4074\n",
      "Epoch 91/100\n",
      "242/242 [==============================] - 0s 1ms/step - loss: 0.3832 - val_loss: 0.4105\n",
      "Epoch 92/100\n",
      "242/242 [==============================] - 0s 1ms/step - loss: 0.3827 - val_loss: 0.4036\n",
      "Epoch 93/100\n",
      "242/242 [==============================] - 0s 1ms/step - loss: 0.3822 - val_loss: 0.4064\n",
      "Epoch 94/100\n",
      "242/242 [==============================] - 0s 1ms/step - loss: 0.3816 - val_loss: 0.4041\n",
      "Epoch 95/100\n",
      "242/242 [==============================] - 0s 1ms/step - loss: 0.3810 - val_loss: 0.4064\n",
      "Epoch 96/100\n",
      "242/242 [==============================] - 0s 1ms/step - loss: 0.3804 - val_loss: 0.4053\n",
      "Epoch 97/100\n",
      "242/242 [==============================] - 0s 1ms/step - loss: 0.3798 - val_loss: 0.4042\n",
      "Epoch 98/100\n",
      "242/242 [==============================] - 0s 1ms/step - loss: 0.3793 - val_loss: 0.4041\n",
      "Epoch 99/100\n",
      "242/242 [==============================] - 0s 1ms/step - loss: 0.3788 - val_loss: 0.4011\n",
      "Epoch 100/100\n",
      "242/242 [==============================] - 0s 1ms/step - loss: 0.3783 - val_loss: 0.4018\n",
      "121/121 [==============================] - 0s 694us/step - loss: 0.3896\n"
     ]
    },
    {
     "ename": "RuntimeError",
     "evalue": "Cannot clone object <tensorflow.python.keras.wrappers.scikit_learn.KerasRegressor object at 0x000002263E871040>, as the constructor either does not set or modifies parameter learning_rate",
     "output_type": "error",
     "traceback": [
      "\u001b[1;31m---------------------------------------------------------------------------\u001b[0m",
      "\u001b[1;31mRuntimeError\u001b[0m                              Traceback (most recent call last)",
      "\u001b[1;32m<ipython-input-50-e41f2e018dca>\u001b[0m in \u001b[0;36m<module>\u001b[1;34m\u001b[0m\n\u001b[1;32m----> 1\u001b[1;33m rnd_search_cv.fit(X_train, y_train, epochs=100, \n\u001b[0m\u001b[0;32m      2\u001b[0m                   \u001b[0mvalidation_data\u001b[0m\u001b[1;33m=\u001b[0m\u001b[1;33m(\u001b[0m\u001b[0mX_valid\u001b[0m\u001b[1;33m,\u001b[0m \u001b[0my_valid\u001b[0m\u001b[1;33m)\u001b[0m\u001b[1;33m,\u001b[0m\u001b[1;33m\u001b[0m\u001b[1;33m\u001b[0m\u001b[0m\n\u001b[0;32m      3\u001b[0m                   callbacks=[keras.callbacks.EarlyStopping(patience=10)])\n",
      "\u001b[1;32m~\\Anaconda3\\envs\\tf\\lib\\site-packages\\sklearn\\utils\\validation.py\u001b[0m in \u001b[0;36minner_f\u001b[1;34m(*args, **kwargs)\u001b[0m\n\u001b[0;32m     70\u001b[0m                           FutureWarning)\n\u001b[0;32m     71\u001b[0m         \u001b[0mkwargs\u001b[0m\u001b[1;33m.\u001b[0m\u001b[0mupdate\u001b[0m\u001b[1;33m(\u001b[0m\u001b[1;33m{\u001b[0m\u001b[0mk\u001b[0m\u001b[1;33m:\u001b[0m \u001b[0marg\u001b[0m \u001b[1;32mfor\u001b[0m \u001b[0mk\u001b[0m\u001b[1;33m,\u001b[0m \u001b[0marg\u001b[0m \u001b[1;32min\u001b[0m \u001b[0mzip\u001b[0m\u001b[1;33m(\u001b[0m\u001b[0msig\u001b[0m\u001b[1;33m.\u001b[0m\u001b[0mparameters\u001b[0m\u001b[1;33m,\u001b[0m \u001b[0margs\u001b[0m\u001b[1;33m)\u001b[0m\u001b[1;33m}\u001b[0m\u001b[1;33m)\u001b[0m\u001b[1;33m\u001b[0m\u001b[1;33m\u001b[0m\u001b[0m\n\u001b[1;32m---> 72\u001b[1;33m         \u001b[1;32mreturn\u001b[0m \u001b[0mf\u001b[0m\u001b[1;33m(\u001b[0m\u001b[1;33m**\u001b[0m\u001b[0mkwargs\u001b[0m\u001b[1;33m)\u001b[0m\u001b[1;33m\u001b[0m\u001b[1;33m\u001b[0m\u001b[0m\n\u001b[0m\u001b[0;32m     73\u001b[0m     \u001b[1;32mreturn\u001b[0m \u001b[0minner_f\u001b[0m\u001b[1;33m\u001b[0m\u001b[1;33m\u001b[0m\u001b[0m\n\u001b[0;32m     74\u001b[0m \u001b[1;33m\u001b[0m\u001b[0m\n",
      "\u001b[1;32m~\\Anaconda3\\envs\\tf\\lib\\site-packages\\sklearn\\model_selection\\_search.py\u001b[0m in \u001b[0;36mfit\u001b[1;34m(self, X, y, groups, **fit_params)\u001b[0m\n\u001b[0;32m    759\u001b[0m             \u001b[1;31m# we clone again after setting params in case some\u001b[0m\u001b[1;33m\u001b[0m\u001b[1;33m\u001b[0m\u001b[1;33m\u001b[0m\u001b[0m\n\u001b[0;32m    760\u001b[0m             \u001b[1;31m# of the params are estimators as well.\u001b[0m\u001b[1;33m\u001b[0m\u001b[1;33m\u001b[0m\u001b[1;33m\u001b[0m\u001b[0m\n\u001b[1;32m--> 761\u001b[1;33m             self.best_estimator_ = clone(clone(base_estimator).set_params(\n\u001b[0m\u001b[0;32m    762\u001b[0m                 **self.best_params_))\n\u001b[0;32m    763\u001b[0m             \u001b[0mrefit_start_time\u001b[0m \u001b[1;33m=\u001b[0m \u001b[0mtime\u001b[0m\u001b[1;33m.\u001b[0m\u001b[0mtime\u001b[0m\u001b[1;33m(\u001b[0m\u001b[1;33m)\u001b[0m\u001b[1;33m\u001b[0m\u001b[1;33m\u001b[0m\u001b[0m\n",
      "\u001b[1;32m~\\Anaconda3\\envs\\tf\\lib\\site-packages\\sklearn\\utils\\validation.py\u001b[0m in \u001b[0;36minner_f\u001b[1;34m(*args, **kwargs)\u001b[0m\n\u001b[0;32m     70\u001b[0m                           FutureWarning)\n\u001b[0;32m     71\u001b[0m         \u001b[0mkwargs\u001b[0m\u001b[1;33m.\u001b[0m\u001b[0mupdate\u001b[0m\u001b[1;33m(\u001b[0m\u001b[1;33m{\u001b[0m\u001b[0mk\u001b[0m\u001b[1;33m:\u001b[0m \u001b[0marg\u001b[0m \u001b[1;32mfor\u001b[0m \u001b[0mk\u001b[0m\u001b[1;33m,\u001b[0m \u001b[0marg\u001b[0m \u001b[1;32min\u001b[0m \u001b[0mzip\u001b[0m\u001b[1;33m(\u001b[0m\u001b[0msig\u001b[0m\u001b[1;33m.\u001b[0m\u001b[0mparameters\u001b[0m\u001b[1;33m,\u001b[0m \u001b[0margs\u001b[0m\u001b[1;33m)\u001b[0m\u001b[1;33m}\u001b[0m\u001b[1;33m)\u001b[0m\u001b[1;33m\u001b[0m\u001b[1;33m\u001b[0m\u001b[0m\n\u001b[1;32m---> 72\u001b[1;33m         \u001b[1;32mreturn\u001b[0m \u001b[0mf\u001b[0m\u001b[1;33m(\u001b[0m\u001b[1;33m**\u001b[0m\u001b[0mkwargs\u001b[0m\u001b[1;33m)\u001b[0m\u001b[1;33m\u001b[0m\u001b[1;33m\u001b[0m\u001b[0m\n\u001b[0m\u001b[0;32m     73\u001b[0m     \u001b[1;32mreturn\u001b[0m \u001b[0minner_f\u001b[0m\u001b[1;33m\u001b[0m\u001b[1;33m\u001b[0m\u001b[0m\n\u001b[0;32m     74\u001b[0m \u001b[1;33m\u001b[0m\u001b[0m\n",
      "\u001b[1;32m~\\Anaconda3\\envs\\tf\\lib\\site-packages\\sklearn\\base.py\u001b[0m in \u001b[0;36mclone\u001b[1;34m(estimator, safe)\u001b[0m\n\u001b[0;32m     94\u001b[0m         \u001b[0mparam2\u001b[0m \u001b[1;33m=\u001b[0m \u001b[0mparams_set\u001b[0m\u001b[1;33m[\u001b[0m\u001b[0mname\u001b[0m\u001b[1;33m]\u001b[0m\u001b[1;33m\u001b[0m\u001b[1;33m\u001b[0m\u001b[0m\n\u001b[0;32m     95\u001b[0m         \u001b[1;32mif\u001b[0m \u001b[0mparam1\u001b[0m \u001b[1;32mis\u001b[0m \u001b[1;32mnot\u001b[0m \u001b[0mparam2\u001b[0m\u001b[1;33m:\u001b[0m\u001b[1;33m\u001b[0m\u001b[1;33m\u001b[0m\u001b[0m\n\u001b[1;32m---> 96\u001b[1;33m             raise RuntimeError('Cannot clone object %s, as the constructor '\n\u001b[0m\u001b[0;32m     97\u001b[0m                                \u001b[1;34m'either does not set or modifies parameter %s'\u001b[0m \u001b[1;33m%\u001b[0m\u001b[1;33m\u001b[0m\u001b[1;33m\u001b[0m\u001b[0m\n\u001b[0;32m     98\u001b[0m                                (estimator, name))\n",
      "\u001b[1;31mRuntimeError\u001b[0m: Cannot clone object <tensorflow.python.keras.wrappers.scikit_learn.KerasRegressor object at 0x000002263E871040>, as the constructor either does not set or modifies parameter learning_rate"
     ]
    }
   ],
   "source": [
    "rnd_search_cv.fit(X_train, y_train, epochs=100, \n",
    "                  validation_data=(X_valid, y_valid),\n",
    "                  callbacks=[keras.callbacks.EarlyStopping(patience=10)])"
   ]
  },
  {
   "cell_type": "code",
   "execution_count": 51,
   "metadata": {},
   "outputs": [
    {
     "data": {
      "text/plain": [
       "{'learning_rate': 0.0004087057440660127, 'n_hidden': 2, 'n_neurons': 45}"
      ]
     },
     "execution_count": 51,
     "metadata": {},
     "output_type": "execute_result"
    }
   ],
   "source": [
    "rnd_search_cv.best_params_"
   ]
  },
  {
   "cell_type": "code",
   "execution_count": 52,
   "metadata": {},
   "outputs": [
    {
     "data": {
      "text/plain": [
       "-0.4219512343406677"
      ]
     },
     "execution_count": 52,
     "metadata": {},
     "output_type": "execute_result"
    }
   ],
   "source": [
    "rnd_search_cv.best_score_"
   ]
  },
  {
   "cell_type": "code",
   "execution_count": 54,
   "metadata": {},
   "outputs": [],
   "source": [
    "model = rnd_search_cv.estimator.model"
   ]
  },
  {
   "cell_type": "code",
   "execution_count": 55,
   "metadata": {},
   "outputs": [
    {
     "data": {
      "text/plain": [
       "<tensorflow.python.keras.engine.sequential.Sequential at 0x2263c2e8d90>"
      ]
     },
     "execution_count": 55,
     "metadata": {},
     "output_type": "execute_result"
    }
   ],
   "source": [
    "model"
   ]
  },
  {
   "cell_type": "code",
   "execution_count": null,
   "metadata": {},
   "outputs": [],
   "source": []
  }
 ],
 "metadata": {
  "kernelspec": {
   "display_name": "Python 3",
   "language": "python",
   "name": "python3"
  },
  "language_info": {
   "codemirror_mode": {
    "name": "ipython",
    "version": 3
   },
   "file_extension": ".py",
   "mimetype": "text/x-python",
   "name": "python",
   "nbconvert_exporter": "python",
   "pygments_lexer": "ipython3",
   "version": "3.8.5"
  }
 },
 "nbformat": 4,
 "nbformat_minor": 4
}
